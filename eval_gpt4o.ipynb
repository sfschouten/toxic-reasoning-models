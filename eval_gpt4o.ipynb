{
 "cells": [
  {
   "metadata": {
    "ExecuteTime": {
     "end_time": "2025-03-10T12:24:27.576804Z",
     "start_time": "2025-03-10T12:24:27.566554Z"
    }
   },
   "cell_type": "code",
   "source": [
    "%load_ext autoreload\n",
    "%autoreload 2"
   ],
   "id": "c8431925d735fa23",
   "outputs": [],
   "execution_count": 1
  },
  {
   "cell_type": "code",
   "id": "initial_id",
   "metadata": {
    "collapsed": true,
    "ExecuteTime": {
     "end_time": "2025-03-10T12:24:29.823707Z",
     "start_time": "2025-03-10T12:24:27.612254Z"
    }
   },
   "source": [
    "import os\n",
    "import json\n",
    "\n",
    "import numpy as np\n",
    "import pandas as pd\n",
    "\n",
    "from data import _preprocess, COLUMNS\n",
    "from eval import f1_conditional_selection, f1_majority, jaccard_sampled, jaccard_index"
   ],
   "outputs": [],
   "execution_count": 2
  },
  {
   "metadata": {},
   "cell_type": "markdown",
   "source": [
    "#### load test data"
   ],
   "id": "eec9e1f0423c0d53"
  },
  {
   "metadata": {
    "ExecuteTime": {
     "end_time": "2025-03-10T12:24:32.107913Z",
     "start_time": "2025-03-10T12:24:29.900341Z"
    }
   },
   "cell_type": "code",
   "source": [
    "TEST_DATA_FILE_NAME = '../data/temporal/preprocessed_test.pkl'\n",
    "test_df = _preprocess(pd.read_pickle(TEST_DATA_FILE_NAME))\n",
    "\n",
    "# TODO fix this upstream somewhere\n",
    "test_df['answer_pp_toxicity'] = test_df['answer_toxicity']\n",
    "\n",
    "# extract language from filename\n",
    "test_df['lang'] = test_df['filename'].str.extract(r'batch_(..)_\\d+\\.csv')\n",
    "test_df['lang'].unique()\n"
   ],
   "id": "9967d56df1be391f",
   "outputs": [
    {
     "data": {
      "text/plain": [
       "array(['nl', 'en', 'es', 'tr', 'ar', 'de'], dtype=object)"
      ]
     },
     "execution_count": 3,
     "metadata": {},
     "output_type": "execute_result"
    }
   ],
   "execution_count": 3
  },
  {
   "metadata": {},
   "cell_type": "markdown",
   "source": [
    "#### load gpt4o predictions"
   ],
   "id": "6ede4a87f5c7a3b"
  },
  {
   "metadata": {
    "ExecuteTime": {
     "end_time": "2025-03-10T12:24:32.575752Z",
     "start_time": "2025-03-10T12:24:32.357909Z"
    }
   },
   "cell_type": "code",
   "source": [
    "TEST_PRED_FOLDER = '../data/temporal/gpt4o_2025-01-22_12-03-30'\n",
    "\n",
    "pred_df = pd.concat([pd.read_csv(os.path.join(TEST_PRED_FOLDER, f)) for f in os.listdir(TEST_PRED_FOLDER) if f.endswith('.csv')])"
   ],
   "id": "bd4d9809e558b690",
   "outputs": [],
   "execution_count": 4
  },
  {
   "metadata": {
    "ExecuteTime": {
     "end_time": "2025-03-10T12:24:33.271104Z",
     "start_time": "2025-03-10T12:24:32.587945Z"
    }
   },
   "cell_type": "code",
   "source": [
    "# pre process\n",
    "df_answers = pred_df['answer'].apply(json.loads).apply(json.loads).apply(pd.Series).add_prefix('answer_')\n",
    "df_answers = df_answers.where(df_answers.astype(bool), np.nan)  # removes empty dictionaries and replaces with NaN\n",
    "pred_df = pd.concat([pred_df.drop(columns='answer'), df_answers], axis=1)\n",
    "\n",
    "pred_df['answer_toxicity'] = pred_df['answer_trinary'].apply(lambda a: 'Yes/Maybe' if a['_Yes/Maybe'] else 'No')\n",
    "pred_df['answer_counternarrative'] = pred_df['answer_trinary'].apply(lambda a: 'Yes' if a['_Counter-speech'] else 'No')\n",
    "\n",
    "pred_pp_df = _preprocess(pred_df)\n"
   ],
   "id": "fd0182ba249184d6",
   "outputs": [],
   "execution_count": 5
  },
  {
   "metadata": {
    "ExecuteTime": {
     "end_time": "2025-03-10T12:24:33.318824Z",
     "start_time": "2025-03-10T12:24:33.294339Z"
    }
   },
   "cell_type": "code",
   "source": [
    "pred_df['answer_implTopic'] = pred_df['answer_implTopic'].str.extract(r'^(?:\\.\\.\\.\\s)?(\\(..?.?\\))')"
   ],
   "id": "4acc2053dc27fc13",
   "outputs": [],
   "execution_count": 6
  },
  {
   "metadata": {},
   "cell_type": "markdown",
   "source": [
    "## Evaluation"
   ],
   "id": "8c95331885723d5d"
  },
  {
   "metadata": {
    "ExecuteTime": {
     "end_time": "2025-03-10T12:24:33.357630Z",
     "start_time": "2025-03-10T12:24:33.333828Z"
    }
   },
   "cell_type": "code",
   "source": [
    "test_df.shape"
   ],
   "id": "4e65846362d5240",
   "outputs": [
    {
     "data": {
      "text/plain": [
       "(8738, 113)"
      ]
     },
     "execution_count": 7,
     "metadata": {},
     "output_type": "execute_result"
    }
   ],
   "execution_count": 7
  },
  {
   "metadata": {
    "ExecuteTime": {
     "end_time": "2025-03-10T12:24:33.408389Z",
     "start_time": "2025-03-10T12:24:33.385146Z"
    }
   },
   "cell_type": "code",
   "source": [
    "def get_prediction(st_id, st_nr, comment_id, column):\n",
    "    comment_df = pred_df[pred_df['comment_id'] == comment_id]\n",
    "    assert len(comment_df) <= 1\n",
    "    if len(comment_df) == 1:\n",
    "        # answer = comment_df[f'answer_pp_{column}'].values[0]\n",
    "        answer = comment_df[f'answer_{column}'].values[0]\n",
    "        if COLUMNS[column].type == 'ml':\n",
    "            # answer = comment_df[f'label_{column}'].values[0]\n",
    "            answer = [answer[v] if v in answer else 0 for v in COLUMNS[column].values]\n",
    "        elif column == 'hasImplication':\n",
    "            answer = str([v for v in COLUMNS['hasImplication'].values if v in answer and bool(answer[v]) ])\n",
    "        return answer\n",
    "    else:\n",
    "        return 'NA'"
   ],
   "id": "4c84004f47f50ad3",
   "outputs": [],
   "execution_count": 8
  },
  {
   "metadata": {},
   "cell_type": "markdown",
   "source": [
    "### Jaccard Evaluation"
   ],
   "id": "4e51a70255aad1eb"
  },
  {
   "metadata": {
    "ExecuteTime": {
     "end_time": "2025-03-10T12:25:55.112453Z",
     "start_time": "2025-03-10T12:24:33.431183Z"
    }
   },
   "cell_type": "code",
   "source": [
    "jaccard_df = jaccard_sampled(test_df, get_prediction)\n",
    "jaccard_df.to_csv('roberta_eval_group2a.csv')"
   ],
   "id": "bf3d33458f629b4c",
   "outputs": [],
   "execution_count": 9
  },
  {
   "metadata": {},
   "cell_type": "markdown",
   "source": [
    "### Majority Evaluation"
   ],
   "id": "1509733815c775c2"
  },
  {
   "metadata": {
    "ExecuteTime": {
     "end_time": "2025-03-10T12:26:03.220395Z",
     "start_time": "2025-03-10T12:25:55.135227Z"
    }
   },
   "cell_type": "code",
   "source": [
    "maj_results_df = f1_majority(test_df, get_prediction)\n",
    "maj_results_df.to_csv('gpt4o_eval_group1.csv')"
   ],
   "id": "3cca9a1c0f1f5f23",
   "outputs": [
    {
     "name": "stderr",
     "output_type": "stream",
     "text": [
      "[autoreload of eval failed: Traceback (most recent call last):\n",
      "  File \"/home/stefan/Projects/toxic-reasoning/env-models/lib/python3.12/site-packages/IPython/extensions/autoreload.py\", line 276, in check\n",
      "    superreload(m, reload, self.old_objects)\n",
      "  File \"/home/stefan/Projects/toxic-reasoning/env-models/lib/python3.12/site-packages/IPython/extensions/autoreload.py\", line 475, in superreload\n",
      "    module = reload(module)\n",
      "             ^^^^^^^^^^^^^^\n",
      "  File \"/home/stefan/Projects/toxic-reasoning/env-models/lib/python3.12/importlib/__init__.py\", line 131, in reload\n",
      "    _bootstrap._exec(spec, module)\n",
      "  File \"<frozen importlib._bootstrap>\", line 866, in _exec\n",
      "  File \"<frozen importlib._bootstrap_external>\", line 995, in exec_module\n",
      "  File \"<frozen importlib._bootstrap_external>\", line 1133, in get_code\n",
      "  File \"<frozen importlib._bootstrap_external>\", line 1063, in source_to_code\n",
      "  File \"<frozen importlib._bootstrap>\", line 488, in _call_with_frames_removed\n",
      "  File \"/home/stefan/Projects/toxic-reasoning/models/eval.py\", line 140\n",
      "    for sample_i in tqdm(range(NR_SAMPLES):\n",
      "                                          ^\n",
      "SyntaxError: invalid syntax\n",
      "]\n"
     ]
    }
   ],
   "execution_count": 10
  },
  {
   "metadata": {},
   "cell_type": "markdown",
   "source": [
    "### Conditional Evaluation"
   ],
   "id": "9e08573b4184a93a"
  },
  {
   "metadata": {
    "ExecuteTime": {
     "end_time": "2025-03-10T17:00:49.755228Z",
     "start_time": "2025-03-10T16:52:47.148748Z"
    }
   },
   "cell_type": "code",
   "source": [
    "cond_results = []\n",
    "for aggregation in ['none', 'max-score', 'random']:\n",
    "    result_df = f1_conditional_selection(test_df, get_prediction, jaccard_index, aggregation=aggregation)\n",
    "    result_df['aggregation'] = aggregation\n",
    "    cond_results.append(result_df)\n",
    "\n",
    "pd.concat(cond_results).to_csv('gpt4o_eval_group2b.csv')"
   ],
   "id": "4c41ac984e884fd4",
   "outputs": [
    {
     "name": "stdout",
     "output_type": "stream",
     "text": [
      "subject subjectTokens\n",
      "cond_scores (8738, 2) 1807\n",
      "eval_predictions (8738,) 2845\n",
      "========================================================================\n",
      "========================================================================\n",
      "subjectGroupType subjectTokens\n",
      "cond_scores (8738, 2) 1807\n",
      "eval_predictions (8738,) 8738\n",
      "========================================================================\n",
      "========================================================================\n",
      "other otherTokens\n",
      "cond_scores (8738, 2) 388\n",
      "eval_predictions (8738,) 2845\n",
      "========================================================================\n",
      "========================================================================\n",
      "implTopic implTopicTokens\n",
      "cond_scores (8738, 2) 1963\n",
      "eval_predictions (8738,) 2845\n",
      "========================================================================\n",
      "========================================================================\n",
      "implPolarity implTopicTokens\n",
      "cond_scores (8738, 2) 1963\n",
      "eval_predictions (8738,) 2845\n",
      "========================================================================\n",
      "========================================================================\n",
      "implTemporality implTopicTokens\n",
      "cond_scores (8738, 2) 1963\n",
      "eval_predictions (8738,) 8738\n",
      "========================================================================\n",
      "========================================================================\n",
      "subject subjectTokens\n",
      "cond_scores (8738, 2) 1807\n",
      "eval_predictions (8738,) 2845\n",
      "Warning: Skipped aggregation=max for 'no_reference'\n",
      "Warning: Skipped aggregation=max for 'empty_both'\n",
      "Warning: Skipped aggregation=max for 'empty_reference'\n",
      "========================================================================\n",
      "========================================================================\n",
      "subjectGroupType subjectTokens\n",
      "cond_scores (8738, 2) 1807\n",
      "eval_predictions (8738,) 8738\n",
      "Warning: Skipped aggregation=max for 'no_reference'\n",
      "Warning: Skipped aggregation=max for 'empty_both'\n",
      "Warning: Skipped aggregation=max for 'empty_reference'\n",
      "========================================================================\n",
      "========================================================================\n",
      "other otherTokens\n",
      "cond_scores (8738, 2) 388\n",
      "eval_predictions (8738,) 2845\n",
      "Warning: Skipped aggregation=max for 'no_reference'\n",
      "Warning: Skipped aggregation=max for 'empty_both'\n",
      "Warning: Skipped aggregation=max for 'empty_reference'\n",
      "========================================================================\n",
      "========================================================================\n",
      "implTopic implTopicTokens\n",
      "cond_scores (8738, 2) 1963\n",
      "eval_predictions (8738,) 2845\n",
      "Warning: Skipped aggregation=max for 'no_reference'\n",
      "Warning: Skipped aggregation=max for 'empty_both'\n",
      "Warning: Skipped aggregation=max for 'empty_reference'\n",
      "========================================================================\n",
      "========================================================================\n",
      "implPolarity implTopicTokens\n",
      "cond_scores (8738, 2) 1963\n",
      "eval_predictions (8738,) 2845\n",
      "Warning: Skipped aggregation=max for 'no_reference'\n",
      "Warning: Skipped aggregation=max for 'empty_both'\n",
      "Warning: Skipped aggregation=max for 'empty_reference'\n",
      "========================================================================\n",
      "========================================================================\n",
      "implTemporality implTopicTokens\n",
      "cond_scores (8738, 2) 1963\n",
      "eval_predictions (8738,) 8738\n",
      "Warning: Skipped aggregation=max for 'no_reference'\n",
      "Warning: Skipped aggregation=max for 'empty_both'\n",
      "Warning: Skipped aggregation=max for 'empty_reference'\n",
      "========================================================================\n",
      "========================================================================\n",
      "subject subjectTokens\n",
      "cond_scores (8738, 2) 1807\n",
      "eval_predictions (8738,) 2845\n",
      "100%|██████████| 50/50 [00:16<00:00,  2.99it/s]\n",
      "100%|██████████| 50/50 [00:03<00:00, 16.37it/s]\n",
      "100%|██████████| 50/50 [00:00<00:00, 107.95it/s]\n",
      "100%|██████████| 50/50 [00:00<00:00, 109.26it/s]\n",
      "100%|██████████| 50/50 [00:03<00:00, 13.38it/s]\n",
      "100%|██████████| 50/50 [00:03<00:00, 15.87it/s]\n",
      "100%|██████████| 50/50 [00:06<00:00,  7.57it/s]\n",
      "100%|██████████| 50/50 [00:02<00:00, 17.28it/s]\n",
      "100%|██████████| 50/50 [00:02<00:00, 18.25it/s]\n",
      "100%|██████████| 50/50 [00:02<00:00, 22.36it/s]\n",
      "100%|██████████| 50/50 [00:01<00:00, 25.78it/s]\n",
      "100%|██████████| 50/50 [00:01<00:00, 28.71it/s]\n",
      "100%|██████████| 50/50 [00:01<00:00, 42.33it/s]\n",
      "100%|██████████| 50/50 [00:00<00:00, 50.92it/s]\n",
      "100%|██████████| 50/50 [00:00<00:00, 52.44it/s]\n",
      "100%|██████████| 50/50 [00:00<00:00, 52.87it/s]\n",
      "100%|██████████| 50/50 [00:00<00:00, 53.05it/s]\n",
      "========================================================================\n",
      "========================================================================\n",
      "subjectGroupType subjectTokens\n",
      "cond_scores (8738, 2) 1807\n",
      "eval_predictions (8738,) 8738\n",
      "100%|██████████| 50/50 [00:16<00:00,  2.95it/s]\n",
      "100%|██████████| 50/50 [00:03<00:00, 15.81it/s]\n",
      "100%|██████████| 50/50 [00:00<00:00, 101.55it/s]\n",
      "100%|██████████| 50/50 [00:00<00:00, 105.07it/s]\n",
      "100%|██████████| 50/50 [00:03<00:00, 13.16it/s]\n",
      "100%|██████████| 50/50 [00:03<00:00, 15.25it/s]\n",
      "100%|██████████| 50/50 [00:06<00:00,  7.15it/s]\n",
      "100%|██████████| 50/50 [00:03<00:00, 16.38it/s]\n",
      "100%|██████████| 50/50 [00:02<00:00, 18.68it/s]\n",
      "100%|██████████| 50/50 [00:02<00:00, 21.47it/s]\n",
      "100%|██████████| 50/50 [00:02<00:00, 24.91it/s]\n",
      "100%|██████████| 50/50 [00:01<00:00, 26.88it/s]\n",
      "100%|██████████| 50/50 [00:01<00:00, 39.05it/s]\n",
      "100%|██████████| 50/50 [00:01<00:00, 48.98it/s]\n",
      "100%|██████████| 50/50 [00:01<00:00, 49.67it/s]\n",
      "100%|██████████| 50/50 [00:00<00:00, 50.59it/s]\n",
      "100%|██████████| 50/50 [00:00<00:00, 50.27it/s]\n",
      "========================================================================\n",
      "========================================================================\n",
      "other otherTokens\n",
      "cond_scores (8738, 2) 388\n",
      "eval_predictions (8738,) 2845\n",
      "100%|██████████| 50/50 [00:17<00:00,  2.88it/s]\n",
      "100%|██████████| 50/50 [00:03<00:00, 16.24it/s]\n",
      "100%|██████████| 50/50 [00:03<00:00, 13.82it/s]\n",
      "100%|██████████| 50/50 [00:00<00:00, 66.91it/s] \n",
      "100%|██████████| 50/50 [00:01<00:00, 47.27it/s]\n",
      "100%|██████████| 50/50 [00:00<00:00, 65.35it/s]\n",
      "100%|██████████| 50/50 [00:01<00:00, 25.02it/s]\n",
      "100%|██████████| 50/50 [00:00<00:00, 103.02it/s]\n",
      "100%|██████████| 50/50 [00:00<00:00, 91.55it/s] \n",
      "100%|██████████| 50/50 [00:00<00:00, 189.34it/s]\n",
      "100%|██████████| 50/50 [00:00<00:00, 146.83it/s]\n",
      "100%|██████████| 50/50 [00:00<00:00, 239.46it/s]\n",
      "100%|██████████| 50/50 [00:00<00:00, 175.57it/s]\n",
      "100%|██████████| 50/50 [00:00<00:00, 337.88it/s]\n",
      "100%|██████████| 50/50 [00:00<00:00, 340.90it/s]\n",
      "100%|██████████| 50/50 [00:00<00:00, 344.57it/s]\n",
      "100%|██████████| 50/50 [00:00<00:00, 187.74it/s]\n",
      "========================================================================\n",
      "========================================================================\n",
      "implTopic implTopicTokens\n",
      "cond_scores (8738, 2) 1963\n",
      "eval_predictions (8738,) 2845\n",
      "100%|██████████| 50/50 [00:16<00:00,  2.96it/s]\n",
      "100%|██████████| 50/50 [00:00<00:00, 450.25it/s]\n",
      "100%|██████████| 50/50 [00:03<00:00, 14.17it/s]\n",
      "100%|██████████| 50/50 [00:00<00:00, 278.07it/s]\n",
      "100%|██████████| 50/50 [00:04<00:00, 12.40it/s]\n",
      "100%|██████████| 50/50 [00:03<00:00, 13.87it/s]\n",
      "100%|██████████| 50/50 [00:07<00:00,  6.70it/s]\n",
      "100%|██████████| 50/50 [00:03<00:00, 14.78it/s]\n",
      "100%|██████████| 50/50 [00:03<00:00, 15.67it/s]\n",
      "100%|██████████| 50/50 [00:02<00:00, 16.98it/s]\n",
      "100%|██████████| 50/50 [00:02<00:00, 19.17it/s]\n",
      "100%|██████████| 50/50 [00:02<00:00, 23.27it/s]\n",
      "100%|██████████| 50/50 [00:01<00:00, 31.43it/s]\n",
      "100%|██████████| 50/50 [00:01<00:00, 35.69it/s]\n",
      "100%|██████████| 50/50 [00:01<00:00, 49.25it/s]\n",
      "100%|██████████| 50/50 [00:00<00:00, 67.00it/s] \n",
      "100%|██████████| 50/50 [00:00<00:00, 60.59it/s]\n",
      "========================================================================\n",
      "========================================================================\n",
      "implPolarity implTopicTokens\n",
      "cond_scores (8738, 2) 1963\n",
      "eval_predictions (8738,) 2845\n",
      "100%|██████████| 50/50 [00:17<00:00,  2.93it/s]\n",
      "100%|██████████| 50/50 [00:00<00:00, 443.43it/s]\n",
      "100%|██████████| 50/50 [00:03<00:00, 14.41it/s]\n",
      "100%|██████████| 50/50 [00:00<00:00, 155.70it/s]\n",
      "100%|██████████| 50/50 [00:04<00:00, 12.36it/s]\n",
      "100%|██████████| 50/50 [00:03<00:00, 13.92it/s]\n",
      "100%|██████████| 50/50 [00:07<00:00,  6.64it/s]\n",
      "100%|██████████| 50/50 [00:03<00:00, 14.61it/s]\n",
      "100%|██████████| 50/50 [00:03<00:00, 14.71it/s]\n",
      "100%|██████████| 50/50 [00:02<00:00, 17.66it/s]\n",
      "100%|██████████| 50/50 [00:02<00:00, 19.20it/s]\n",
      "100%|██████████| 50/50 [00:02<00:00, 23.15it/s]\n",
      "100%|██████████| 50/50 [00:01<00:00, 29.30it/s]\n",
      "100%|██████████| 50/50 [00:01<00:00, 38.52it/s]\n",
      "100%|██████████| 50/50 [00:01<00:00, 48.28it/s]\n",
      "100%|██████████| 50/50 [00:00<00:00, 56.37it/s]\n",
      "100%|██████████| 50/50 [00:00<00:00, 73.26it/s] \n",
      "========================================================================\n",
      "========================================================================\n",
      "implTemporality implTopicTokens\n",
      "cond_scores (8738, 2) 1963\n",
      "eval_predictions (8738,) 8738\n",
      "100%|██████████| 50/50 [00:17<00:00,  2.92it/s]\n",
      "100%|██████████| 50/50 [00:00<00:00, 455.27it/s]\n",
      "100%|██████████| 50/50 [00:03<00:00, 13.93it/s]\n",
      "100%|██████████| 50/50 [00:00<00:00, 274.71it/s]\n",
      "100%|██████████| 50/50 [00:04<00:00, 12.28it/s]\n",
      "100%|██████████| 50/50 [00:03<00:00, 13.51it/s]\n",
      "100%|██████████| 50/50 [00:08<00:00,  6.25it/s]\n",
      "100%|██████████| 50/50 [00:03<00:00, 14.44it/s]\n",
      "100%|██████████| 50/50 [00:03<00:00, 15.46it/s]\n",
      "100%|██████████| 50/50 [00:02<00:00, 17.50it/s]\n",
      "100%|██████████| 50/50 [00:02<00:00, 20.07it/s]\n",
      "100%|██████████| 50/50 [00:02<00:00, 23.43it/s]\n",
      "100%|██████████| 50/50 [00:01<00:00, 29.39it/s]\n",
      "100%|██████████| 50/50 [00:01<00:00, 39.56it/s]\n",
      "100%|██████████| 50/50 [00:01<00:00, 46.94it/s]\n",
      "100%|██████████| 50/50 [00:00<00:00, 63.08it/s]\n",
      "100%|██████████| 50/50 [00:00<00:00, 87.83it/s] \n",
      "========================================================================\n",
      "========================================================================\n"
     ]
    }
   ],
   "execution_count": 16
  }
 ],
 "metadata": {
  "kernelspec": {
   "display_name": "Python 3",
   "language": "python",
   "name": "python3"
  },
  "language_info": {
   "codemirror_mode": {
    "name": "ipython",
    "version": 2
   },
   "file_extension": ".py",
   "mimetype": "text/x-python",
   "name": "python",
   "nbconvert_exporter": "python",
   "pygments_lexer": "ipython2",
   "version": "2.7.6"
  }
 },
 "nbformat": 4,
 "nbformat_minor": 5
}
