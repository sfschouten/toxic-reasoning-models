{
 "cells": [
  {
   "metadata": {
    "ExecuteTime": {
     "end_time": "2025-04-08T10:39:17.700895Z",
     "start_time": "2025-04-08T10:39:17.690702Z"
    }
   },
   "cell_type": "code",
   "source": [
    "%load_ext autoreload\n",
    "%autoreload 2"
   ],
   "id": "d7fb641ed711d84d",
   "outputs": [],
   "execution_count": 1
  },
  {
   "cell_type": "code",
   "source": [
    "import math\n",
    "from functools import partial\n",
    "\n",
    "import torch\n",
    "import pandas as pd\n",
    "from tqdm import tqdm\n",
    "\n",
    "from transformers import AutoTokenizer"
   ],
   "metadata": {
    "id": "DL6nALecytio",
    "ExecuteTime": {
     "end_time": "2025-04-08T10:39:21.537333Z",
     "start_time": "2025-04-08T10:39:17.745967Z"
    }
   },
   "id": "DL6nALecytio",
   "outputs": [],
   "execution_count": 2
  },
  {
   "cell_type": "code",
   "source": [
    "from data import COLUMNS, hierarchy_lookup, comtok_create_thread_text, _preprocess, convert_word_to_token_level\n",
    "from eval import f1_by_annotator, f1_conditional_selection, f1_majority, jaccard_index, jaccard_sampled"
   ],
   "metadata": {
    "id": "dvNcNfWmwnSW",
    "ExecuteTime": {
     "end_time": "2025-04-08T10:39:23.379363Z",
     "start_time": "2025-04-08T10:39:21.608571Z"
    }
   },
   "id": "dvNcNfWmwnSW",
   "outputs": [],
   "execution_count": 3
  },
  {
   "cell_type": "markdown",
   "source": [
    "## Initialize"
   ],
   "metadata": {
    "id": "XMDLFtwOKBhh"
   },
   "id": "XMDLFtwOKBhh"
  },
  {
   "metadata": {
    "ExecuteTime": {
     "end_time": "2025-04-08T10:39:23.698600Z",
     "start_time": "2025-04-08T10:39:23.524856Z"
    }
   },
   "cell_type": "code",
   "source": [
    "# from model_xlm_roberta import XLMRobertaForToxicReasoning as ToxicReasoningModel\n",
    "# MODEL_KEY = 'FacebookAI/xlm-roberta-base'\n",
    "# MODEL = 'saved_model-0207-1705'\n",
    "# MODEL_NAME = 'roberta'\n",
    "\n",
    "from model_eurobert import EuroBertForToxicReasoning as ToxicReasoningModel\n",
    "MODEL_KEY = 'EuroBERT/EuroBERT-610m'\n",
    "MODEL = 'saved_eurobert_apr1_1401'\n",
    "MODEL_NAME = 'eurobert'"
   ],
   "id": "94bb1ba547907849",
   "outputs": [],
   "execution_count": 4
  },
  {
   "metadata": {
    "id": "60f9defde08bc804",
    "colab": {
     "base_uri": "https://localhost:8080/",
     "referenced_widgets": [
      "6e0b06ed4cc647be8554409a47d602e7",
      "580f553195d5479d9c253690f07be6d9",
      "c23c6397e4284db38d57a0d73a3359b2",
      "737b82f0e5ee40f68b5c7937c9e5a016",
      "4a049376d7994b058b19e6186ed0d607",
      "87510f08753d4d429344d9ce62abdb97",
      "1bfcede1c94f43a9b836aca1cfeb3d6d",
      "0094adf91a57453fa2114dcf82e89f69",
      "93bf8487b2c3468592b479d676af73d7",
      "e9cc0e6698a84c7392b03bf0a86c835a",
      "e2e1bc843bd242f280676598e98cdf70",
      "8cbd14546f1f407096d059dde1f7c740",
      "082607a8d9b849dbb805f507d76f7396",
      "5d134116bcba4a139e53e7a3bec415a9",
      "ac6eb720567040fb8e301c3904008ac0",
      "7c5fdcf030cc44f7af7e0d9202350570",
      "6a0b47b342aa4065a146cc4d701c09b6",
      "ea1566b1734841188a0b19f2dfe9e9b9",
      "44d6e71bbb9447e5948ced73ac4d7682",
      "37fac5216ced463c80eda801c57c992d",
      "b80a5ebd7e2f443b9a23b959c9b14b35",
      "8b367231dfa24a6e8089466c268498e1",
      "c78891d341624dbc9ec72f643e2a7ab0",
      "322767c7180d48a699bd9d26270f17f6",
      "ee7f79a0759c48bbaedc60faec77b88e",
      "5caf19a0bccd4ca59f13b9c3383df8f1",
      "5f2b633ea5234c07839607f96657ab8e",
      "1b0f18c9bc9446a59dc5068ec76c691c",
      "c22c975f81b842689879cc2abccfd623",
      "f2dbbfb4e3cc4aa481b91cd5ba3fcbd0",
      "f947a3615b6a479c9b3e71b742158a99",
      "e29f37994ae546e696c124777b24d192",
      "9d747c45a21240fc96a8e44e9ea1ddc9",
      "5c9c7876e2104bffacbec1cec74070d4",
      "d700277f212d4f2693f042d46c8d3453",
      "5da28c5f9ab84f4ba0f52ae22b053753",
      "2240c74f9e6f4c0fb6dcf610c7d4ec90",
      "b3e58ae11f8246739ba360db8a89107c",
      "e381779df14b44d0b7965c061acaf052",
      "2d05f0d7c5ba45479ac527f3fea33c90",
      "4a901a209be3460ba7014520855544ab",
      "21f42ce0c1cf47438400eac94b995a91",
      "b156ca0aa0b74ddea561784726a8ec09",
      "bbdad5313d6c43f2b37b190781b31341"
     ]
    },
    "outputId": "289e2bfe-6b84-4b47-95ca-a4bfdc109578",
    "ExecuteTime": {
     "end_time": "2025-04-08T10:39:24.348391Z",
     "start_time": "2025-04-08T10:39:23.716176Z"
    }
   },
   "cell_type": "code",
   "source": [
    "COMMENT_TOKEN = \"<COMMENT>\"\n",
    "tokenizer = AutoTokenizer.from_pretrained(MODEL_KEY)\n",
    "tokenizer.add_special_tokens({'additional_special_tokens': [COMMENT_TOKEN]})"
   ],
   "id": "60f9defde08bc804",
   "outputs": [
    {
     "data": {
      "text/plain": [
       "1"
      ]
     },
     "execution_count": 5,
     "metadata": {},
     "output_type": "execute_result"
    }
   ],
   "execution_count": 5
  },
  {
   "cell_type": "code",
   "id": "initial_id",
   "metadata": {
    "collapsed": true,
    "id": "initial_id",
    "colab": {
     "base_uri": "https://localhost:8080/"
    },
    "outputId": "dd91b497-43a9-44e0-9972-c1eca6931112",
    "ExecuteTime": {
     "end_time": "2025-04-08T10:39:25.666035Z",
     "start_time": "2025-04-08T10:39:24.362284Z"
    }
   },
   "source": [
    "device = 'cuda' if torch.cuda.is_available() else 'cpu'\n",
    "print(device)\n",
    "model = ToxicReasoningModel.from_pretrained(MODEL, device_map=device)\n",
    "model.further_init(tokenizer.vocab['<COMMENT>'])\n",
    "model = model.eval()"
   ],
   "outputs": [
    {
     "name": "stdout",
     "output_type": "stream",
     "text": [
      "cuda\n"
     ]
    }
   ],
   "execution_count": 6
  },
  {
   "cell_type": "markdown",
   "source": [
    "## Evaluation"
   ],
   "metadata": {
    "id": "2gLR_Pf49SCx"
   },
   "id": "2gLR_Pf49SCx"
  },
  {
   "cell_type": "code",
   "source": [
    "TEST_DATA_FILE_NAME = '../data/temporal/preprocessed_test.pkl'"
   ],
   "metadata": {
    "id": "oOM1SnX5KJbx",
    "ExecuteTime": {
     "end_time": "2025-04-08T10:39:25.710141Z",
     "start_time": "2025-04-08T10:39:25.680509Z"
    }
   },
   "id": "oOM1SnX5KJbx",
   "outputs": [],
   "execution_count": 7
  },
  {
   "cell_type": "code",
   "source": [
    "test_df = _preprocess(pd.read_pickle(TEST_DATA_FILE_NAME))\n",
    "test_df.shape"
   ],
   "metadata": {
    "id": "sdYlgH6PKcpp",
    "colab": {
     "base_uri": "https://localhost:8080/"
    },
    "outputId": "6c186207-42fe-402d-c511-6e36abfb2dd5",
    "ExecuteTime": {
     "end_time": "2025-04-08T10:39:26.492948Z",
     "start_time": "2025-04-08T10:39:25.725197Z"
    }
   },
   "id": "sdYlgH6PKcpp",
   "outputs": [
    {
     "data": {
      "text/plain": [
       "(8738, 113)"
      ]
     },
     "execution_count": 8,
     "metadata": {},
     "output_type": "execute_result"
    }
   ],
   "execution_count": 8
  },
  {
   "cell_type": "code",
   "source": [
    "# TODO fix this upstream somewhere\n",
    "test_df['answer_pp_toxicity'] = test_df['answer_toxicity']"
   ],
   "metadata": {
    "id": "fSwHZeuT34yw",
    "ExecuteTime": {
     "end_time": "2025-04-08T10:39:26.548099Z",
     "start_time": "2025-04-08T10:39:26.517886Z"
    }
   },
   "id": "fSwHZeuT34yw",
   "outputs": [],
   "execution_count": 9
  },
  {
   "cell_type": "code",
   "source": "test_thread_df = comtok_create_thread_text(test_df, tokenizer, \"<COMMENT>\")",
   "metadata": {
    "colab": {
     "base_uri": "https://localhost:8080/"
    },
    "id": "BDnpzx2f6BCS",
    "outputId": "384a5e8c-6165-481d-ec94-210ebbe5b851",
    "ExecuteTime": {
     "end_time": "2025-04-08T10:39:41.899590Z",
     "start_time": "2025-04-08T10:39:26.558948Z"
    }
   },
   "id": "BDnpzx2f6BCS",
   "outputs": [
    {
     "name": "stderr",
     "output_type": "stream",
     "text": [
      "100%|██████████| 1649/1649 [00:15<00:00, 107.94it/s]"
     ]
    },
    {
     "name": "stdout",
     "output_type": "stream",
     "text": [
      "Split up 467 that were too long otherwise.\n",
      "Skipped 91 that were still too long after.\n"
     ]
    },
    {
     "name": "stderr",
     "output_type": "stream",
     "text": [
      "\n"
     ]
    }
   ],
   "execution_count": 10
  },
  {
   "metadata": {
    "ExecuteTime": {
     "end_time": "2025-04-08T10:39:41.947435Z",
     "start_time": "2025-04-08T10:39:41.913979Z"
    }
   },
   "cell_type": "code",
   "source": [
    "test_thread_df.columns"
   ],
   "id": "5c45a2cccdda15e",
   "outputs": [
    {
     "data": {
      "text/plain": [
       "Index(['st_id', 'text', 'ids', 'label_toxicity', 'label_counternarrative',\n",
       "       'label_justInappropriate', 'label_hasImplication', 'label_subject',\n",
       "       'label_subjectGroupType', 'label_subjectTokens', 'label_hasOther',\n",
       "       'label_other', 'label_otherTokens', 'label_implTopic',\n",
       "       'label_implTopicTokens', 'label_implPolarity', 'label_implStereotype',\n",
       "       'label_implSarcasm', 'label_implTemporality', 'label_authorBelief',\n",
       "       'label_authorPrefer', 'label_authorAccount', 'label_typicalBelief',\n",
       "       'label_typicalPrefer', 'label_expertBelief', 'comment_i'],\n",
       "      dtype='object')"
      ]
     },
     "execution_count": 11,
     "metadata": {},
     "output_type": "execute_result"
    }
   ],
   "execution_count": 11
  },
  {
   "cell_type": "code",
   "source": [
    "# extract language from filename\n",
    "test_df['lang'] = test_df['filename'].str.extract(r'batch_(..)_\\d+\\.csv')\n",
    "test_df['lang'].unique()"
   ],
   "metadata": {
    "colab": {
     "base_uri": "https://localhost:8080/"
    },
    "id": "XBMAc3ekv7Ko",
    "outputId": "8f2f2503-4855-46f9-c2e0-f9d60e0a5cd8",
    "ExecuteTime": {
     "end_time": "2025-04-08T10:39:42.020584Z",
     "start_time": "2025-04-08T10:39:41.980770Z"
    }
   },
   "id": "XBMAc3ekv7Ko",
   "outputs": [
    {
     "data": {
      "text/plain": [
       "array(['nl', 'en', 'es', 'tr', 'ar', 'de'], dtype=object)"
      ]
     },
     "execution_count": 12,
     "metadata": {},
     "output_type": "execute_result"
    }
   ],
   "execution_count": 12
  },
  {
   "cell_type": "markdown",
   "source": [
    "### Use model to predict on test set"
   ],
   "metadata": {
    "id": "acmglebwvOY7"
   },
   "id": "acmglebwvOY7"
  },
  {
   "metadata": {
    "ExecuteTime": {
     "end_time": "2025-04-08T10:39:42.065734Z",
     "start_time": "2025-04-08T10:39:42.033999Z"
    }
   },
   "cell_type": "code",
   "source": [
    "def sigmoid(x):\n",
    "    return 1 / (1 + math.exp(-x))"
   ],
   "id": "7c2da4aafce073f6",
   "outputs": [],
   "execution_count": 13
  },
  {
   "cell_type": "code",
   "source": [
    "def convert_prediction(name, value):\n",
    "    value = value.squeeze().detach().cpu()\n",
    "\n",
    "    rev_map = COLUMNS[name].reverse_map\n",
    "    if any(type(k) == float for k in rev_map.keys()):\n",
    "        # this is a binary field where we want a 5-valued ordinal\n",
    "        p = sigmoid(value.item())\n",
    "        if   p < 0.15: value = 'Very low'\n",
    "        elif p < 0.35: value = 'Low'\n",
    "        elif p < 0.65: value = 'Medium'\n",
    "        elif p < 0.85: value = 'High'\n",
    "        elif p < 1:    value = 'Very high'\n",
    "        else: value = 'NA'\n",
    "    elif len(value.shape) == 0:\n",
    "        # this is a binary field where we want to threshold\n",
    "        int_value = 0 if value < 0.5 else 1\n",
    "        value = rev_map[int_value]\n",
    "    elif COLUMNS[name].type == 'mc':\n",
    "        # multi-class\n",
    "        int_value = value.argmax().squeeze().item()\n",
    "        value = rev_map[int_value]\n",
    "    else:\n",
    "        # multi-label\n",
    "        # value = [v for p, v in zip(value.tolist(), COLUMNS[name].values) if sigmoid(p) > 0.5]\n",
    "        value = value.tolist()\n",
    "    return value\n",
    "\n",
    "st_preds = {}\n",
    "\n",
    "for st_id, t_df_1 in tqdm(test_df.groupby('st_id')):\n",
    "    comment_ids = t_df_1.sort_values('st_nr')['comment_id'].unique().tolist()\n",
    "\n",
    "    t_df_2 = test_thread_df.loc[test_thread_df['st_id'] == st_id]\n",
    "    thread_texts = t_df_2[['ids', 'text']].apply(lambda r: (tuple(r['ids']), r['text']), axis=1).unique()\n",
    "\n",
    "    # contains the index of the comment that each word is a part of\n",
    "    wl_comment_indices = t_df_2['comment_i'].apply(tuple).unique()\n",
    "\n",
    "    all_preds = {}  # the thread might have been split to fit in the model\n",
    "    for (ids, thread_text), wl_comment_i in zip(thread_texts, wl_comment_indices):\n",
    "        tokens = tokenizer(thread_text, return_tensors='pt', is_split_into_words=False)\n",
    "        preds, _ = model(**{k: v.to(device) if isinstance(v, torch.Tensor) else v for k, v in tokens.items()})\n",
    "\n",
    "        # == convert token-level predictions to word-level ==\n",
    "        comment_word_pred = [{key: [] for key in preds.keys() if key.endswith('Tokens')} for _ in range(len(ids))]\n",
    "        # get the index of the comment that each token is a part of\n",
    "        tl_comment_indices = convert_word_to_token_level(tokens.encodings[0], thread_text, wl_comment_i, is_boolean=False)\n",
    "\n",
    "        for key in [k for k in preds.keys() if k.endswith('Tokens')]:\n",
    "            assert len(tl_comment_indices) == len(preds[key].squeeze())\n",
    "\n",
    "            word_preds = [[] for _ in range(max(w for w in tokens.encodings[0].word_ids if w is not None)+1)]\n",
    "            for (tok_idx, comment_idx), logit in zip(enumerate(tl_comment_indices), preds[key].squeeze()):\n",
    "                word_i = tokens.encodings[0].token_to_word(tok_idx)\n",
    "                if word_i is not None:\n",
    "                    word_preds[word_i].append(logit.item())\n",
    "\n",
    "            for logits, comment_idx in zip(word_preds, wl_comment_i):\n",
    "                # average across word\n",
    "                if comment_idx is None or comment_idx < 0:\n",
    "                    continue\n",
    "                comment_word_pred[comment_idx][key].append(sum(logits)/len(logits) if len(logits) > 0 else None)\n",
    "        # == == == == ==\n",
    "\n",
    "        for i, (st_nr, id) in enumerate(ids):\n",
    "            all_preds[(st_nr, id)] = {\n",
    "                key: convert_prediction(key, preds[key][i])\n",
    "                for key in preds.keys() if not key.endswith('Tokens')\n",
    "            }\n",
    "\n",
    "            comment_words = t_df_1.loc[t_df_1['comment_id'] == id, 'comment_body_tokens'].unique()[0].split()\n",
    "            assert len(comment_words) == len(comment_word_pred[i]['subjectTokens'])\n",
    "            word_level_fields = {\n",
    "                key: {\n",
    "                    w: logit > 0 if logit is not None else False\n",
    "                    for _, (w, logit) in enumerate(zip(comment_words, comment_word_pred[i][key]))\n",
    "                }\n",
    "                for key in comment_word_pred[i].keys()\n",
    "            }\n",
    "            all_preds[(st_nr, id)] |= word_level_fields\n",
    "\n",
    "    st_preds[st_id] = all_preds"
   ],
   "metadata": {
    "id": "3WwCma38KlSx",
    "colab": {
     "base_uri": "https://localhost:8080/"
    },
    "outputId": "d8c5a653-24d9-460a-c596-9138082b140c",
    "ExecuteTime": {
     "end_time": "2025-04-08T10:40:15.215812Z",
     "start_time": "2025-04-08T10:39:42.092168Z"
    }
   },
   "id": "3WwCma38KlSx",
   "outputs": [
    {
     "name": "stderr",
     "output_type": "stream",
     "text": [
      "100%|██████████| 547/547 [00:33<00:00, 16.54it/s]\n"
     ]
    }
   ],
   "execution_count": 14
  },
  {
   "metadata": {
    "ExecuteTime": {
     "end_time": "2025-04-08T10:40:15.257826Z",
     "start_time": "2025-04-08T10:40:15.225664Z"
    }
   },
   "cell_type": "code",
   "source": [
    "# test_df.to_csv('eval_outputs/test_data.csv')\n",
    "# test_df.shape"
   ],
   "id": "d016a05d7e403855",
   "outputs": [],
   "execution_count": 15
  },
  {
   "metadata": {
    "ExecuteTime": {
     "end_time": "2025-04-08T10:40:15.306710Z",
     "start_time": "2025-04-08T10:40:15.272490Z"
    }
   },
   "cell_type": "code",
   "source": [
    "HIERARCHY_LOOKUP = hierarchy_lookup()\n",
    "HIERARCHY_LOOKUP.keys()"
   ],
   "id": "5ac0e8500509d0a4",
   "outputs": [
    {
     "data": {
      "text/plain": [
       "dict_keys(['toxicity', 'counternarrative', 'justInappropriate', 'hasImplication', 'authorBelief', 'authorPrefer', 'authorAccount', 'typicalBelief', 'typicalPrefer', 'expertBelief', 'implTopic', 'implTopicTokens', 'implPolarity', 'implTemporality', 'implStereotype', 'hasOther', 'other', 'otherTokens', 'subject', 'subjectGroupType', 'subjectTokens'])"
      ]
     },
     "execution_count": 16,
     "metadata": {},
     "output_type": "execute_result"
    }
   ],
   "execution_count": 16
  },
  {
   "metadata": {
    "ExecuteTime": {
     "end_time": "2025-04-08T10:40:15.354428Z",
     "start_time": "2025-04-08T10:40:15.320363Z"
    }
   },
   "cell_type": "code",
   "source": [
    "def get_prediction(st_id, st_nr, comment_id, column, optimistic=False):\n",
    "    st_pred = st_preds[st_id]\n",
    "    if (st_nr, comment_id) not in st_pred:\n",
    "        # no predictions for this comment (probably didn't fit into the model)\n",
    "        return 'NA'\n",
    "\n",
    "    pred = st_pred[(st_nr, comment_id)]\n",
    "    if optimistic:\n",
    "        return pred[column]\n",
    "\n",
    "    hier_node = HIERARCHY_LOOKUP[column]\n",
    "    if hier_node.parent is not None and not all(\n",
    "        pred[c] == COLUMNS[c].reverse_map[HIERARCHY_LOOKUP[c].conditions[HIERARCHY_LOOKUP[c].columns.index(c)]]\n",
    "        for c in hier_node.parent.ancestor_values()\n",
    "    ):\n",
    "        # print([\n",
    "        #     (pred[c], COLUMNS[c].reverse_map[HIERARCHY_LOOKUP[c].conditions[HIERARCHY_LOOKUP[c].columns.index(c)]])\n",
    "        #     for c in hier_node.parent.ancestor_values()\n",
    "        # ])\n",
    "        return 'NA'\n",
    "\n",
    "    return pred[column]\n"
   ],
   "id": "87a0bfbce3512079",
   "outputs": [],
   "execution_count": 17
  },
  {
   "metadata": {},
   "cell_type": "markdown",
   "source": "### Majority evaluation",
   "id": "2222e63a08747321"
  },
  {
   "metadata": {
    "ExecuteTime": {
     "end_time": "2025-04-08T10:40:17.723539Z",
     "start_time": "2025-04-08T10:40:15.368308Z"
    }
   },
   "cell_type": "code",
   "source": [
    "maj_results = []\n",
    "for optimism in [True, False]:\n",
    "    maj_results_df = f1_majority(test_df, partial(get_prediction, optimistic=optimism))\n",
    "    maj_results_df['optmisitic'] = optimism\n",
    "    maj_results.append(maj_results_df)\n",
    "\n",
    "pd.concat(maj_results).to_csv(f'eval_outputs/{MODEL_NAME}_eval_group1.csv')"
   ],
   "id": "61b2c2d91f636438",
   "outputs": [],
   "execution_count": 18
  },
  {
   "cell_type": "markdown",
   "source": "### By-annotator evaluation",
   "metadata": {
    "id": "b4pq29KdviqS"
   },
   "id": "b4pq29KdviqS"
  },
  {
   "cell_type": "markdown",
   "source": [
    "Here we measure how much the model agrees with each annotator"
   ],
   "metadata": {
    "id": "hryRzs57wQq9"
   },
   "id": "hryRzs57wQq9"
  },
  {
   "cell_type": "code",
   "source": [
    "# results_df = f1_by_annotator(test_df, get_prediction)\n",
    "# results_df.to_csv(f'{MODEL_NAME}_by_annotator.csv')"
   ],
   "metadata": {
    "id": "vWedN10YEmGy",
    "ExecuteTime": {
     "end_time": "2025-04-08T10:40:17.780962Z",
     "start_time": "2025-04-08T10:40:17.749414Z"
    }
   },
   "id": "vWedN10YEmGy",
   "outputs": [],
   "execution_count": 19
  },
  {
   "metadata": {},
   "cell_type": "markdown",
   "source": "### Conditional Evaluation",
   "id": "ced65cdab1cb939e"
  },
  {
   "metadata": {
    "ExecuteTime": {
     "end_time": "2025-04-08T10:47:13.747314Z",
     "start_time": "2025-04-08T10:40:17.787444Z"
    }
   },
   "cell_type": "code",
   "source": [
    "cond_results = []\n",
    "for optimism in [True, False]:\n",
    "    for aggregation in ['none', 'max-score', 'random']:\n",
    "        results_df = f1_conditional_selection(test_df, partial(get_prediction, optimistic=optimism), jaccard_index, aggregation=aggregation)\n",
    "        results_df['aggregation'] = aggregation\n",
    "        results_df['optimistic'] = optimism\n",
    "        cond_results.append(results_df)\n",
    "\n",
    "pd.concat(cond_results).to_csv(f'eval_outputs/{MODEL_NAME}_eval_group2b.csv')"
   ],
   "id": "11e60d5b07398b01",
   "outputs": [
    {
     "name": "stdout",
     "output_type": "stream",
     "text": [
      "subject subjectTokens\n",
      "cond_scores (8738, 2) 1807\n",
      "eval_predictions (8738,) 8738\n",
      "========================================================================\n",
      "========================================================================\n",
      "subjectGroupType subjectTokens\n",
      "cond_scores (8738, 2) 1807\n",
      "eval_predictions (8738,) 8738\n",
      "========================================================================\n",
      "========================================================================\n",
      "other otherTokens\n",
      "cond_scores (8738, 2) 388\n",
      "eval_predictions (8738,) 8738\n",
      "========================================================================\n",
      "========================================================================\n",
      "implTopic implTopicTokens\n",
      "cond_scores (8738, 2) 1963\n",
      "eval_predictions (8738,) 8738\n",
      "========================================================================\n",
      "========================================================================\n",
      "implPolarity implTopicTokens\n",
      "cond_scores (8738, 2) 1963\n",
      "eval_predictions (8738,) 8738\n",
      "========================================================================\n",
      "========================================================================\n",
      "implTemporality implTopicTokens\n",
      "cond_scores (8738, 2) 1963\n",
      "eval_predictions (8738,) 8738\n",
      "========================================================================\n",
      "========================================================================\n",
      "subject subjectTokens\n",
      "cond_scores (8738, 2) 1807\n",
      "eval_predictions (8738,) 8738\n",
      "Warning: Skipped aggregation=max for 'no_reference'\n",
      "Warning: Skipped aggregation=max for 'empty_reference'\n",
      "========================================================================\n",
      "========================================================================\n",
      "subjectGroupType subjectTokens\n",
      "cond_scores (8738, 2) 1807\n",
      "eval_predictions (8738,) 8738\n",
      "Warning: Skipped aggregation=max for 'no_reference'\n",
      "Warning: Skipped aggregation=max for 'empty_reference'\n",
      "========================================================================\n",
      "========================================================================\n",
      "other otherTokens\n",
      "cond_scores (8738, 2) 388\n",
      "eval_predictions (8738,) 8738\n",
      "Warning: Skipped aggregation=max for 'no_reference'\n",
      "Warning: Skipped aggregation=max for 'empty_reference'\n",
      "Warning: Skipped aggregation=max for 'empty_both'\n",
      "========================================================================\n",
      "========================================================================\n",
      "implTopic implTopicTokens\n",
      "cond_scores (8738, 2) 1963\n",
      "eval_predictions (8738,) 8738\n",
      "Warning: Skipped aggregation=max for 'no_reference'\n",
      "Warning: Skipped aggregation=max for 'empty_reference'\n",
      "========================================================================\n",
      "========================================================================\n",
      "implPolarity implTopicTokens\n",
      "cond_scores (8738, 2) 1963\n",
      "eval_predictions (8738,) 8738\n",
      "Warning: Skipped aggregation=max for 'no_reference'\n",
      "Warning: Skipped aggregation=max for 'empty_reference'\n",
      "========================================================================\n",
      "========================================================================\n",
      "implTemporality implTopicTokens\n",
      "cond_scores (8738, 2) 1963\n",
      "eval_predictions (8738,) 8738\n",
      "Warning: Skipped aggregation=max for 'no_reference'\n",
      "Warning: Skipped aggregation=max for 'empty_reference'\n",
      "========================================================================\n",
      "========================================================================\n",
      "subject subjectTokens\n",
      "cond_scores (8738, 2) 1807\n",
      "eval_predictions (8738,) 8738\n",
      "========================================================================\n",
      "========================================================================\n",
      "subjectGroupType subjectTokens\n",
      "cond_scores (8738, 2) 1807\n",
      "eval_predictions (8738,) 8738\n",
      "========================================================================\n",
      "========================================================================\n",
      "other otherTokens\n",
      "cond_scores (8738, 2) 388\n",
      "eval_predictions (8738,) 8738\n",
      "========================================================================\n",
      "========================================================================\n",
      "implTopic implTopicTokens\n",
      "cond_scores (8738, 2) 1963\n",
      "eval_predictions (8738,) 8738\n",
      "========================================================================\n",
      "========================================================================\n",
      "implPolarity implTopicTokens\n",
      "cond_scores (8738, 2) 1963\n",
      "eval_predictions (8738,) 8738\n",
      "========================================================================\n",
      "========================================================================\n",
      "implTemporality implTopicTokens\n",
      "cond_scores (8738, 2) 1963\n",
      "eval_predictions (8738,) 8738\n",
      "========================================================================\n",
      "========================================================================\n",
      "subject subjectTokens\n",
      "cond_scores (8738, 2) 1807\n",
      "eval_predictions (8738,) 8738\n",
      "========================================================================\n",
      "========================================================================\n",
      "subjectGroupType subjectTokens\n",
      "cond_scores (8738, 2) 1807\n",
      "eval_predictions (8738,) 8738\n",
      "========================================================================\n",
      "========================================================================\n",
      "other otherTokens\n",
      "cond_scores (8738, 2) 388\n",
      "eval_predictions (8738,) 8738\n",
      "========================================================================\n",
      "========================================================================\n",
      "implTopic implTopicTokens\n",
      "cond_scores (8738, 2) 1963\n",
      "eval_predictions (8738,) 8738\n",
      "========================================================================\n",
      "========================================================================\n",
      "implPolarity implTopicTokens\n",
      "cond_scores (8738, 2) 1963\n",
      "eval_predictions (8738,) 8738\n",
      "========================================================================\n",
      "========================================================================\n",
      "implTemporality implTopicTokens\n",
      "cond_scores (8738, 2) 1963\n",
      "eval_predictions (8738,) 8738\n",
      "========================================================================\n",
      "========================================================================\n",
      "subject subjectTokens\n",
      "cond_scores (8738, 2) 1807\n",
      "eval_predictions (8738,) 8738\n",
      "Warning: Skipped aggregation=max for 'no_reference'\n",
      "Warning: Skipped aggregation=max for 'empty_both'\n",
      "Warning: Skipped aggregation=max for 'empty_reference'\n",
      "========================================================================\n",
      "========================================================================\n",
      "subjectGroupType subjectTokens\n",
      "cond_scores (8738, 2) 1807\n",
      "eval_predictions (8738,) 8738\n",
      "Warning: Skipped aggregation=max for 'no_reference'\n",
      "Warning: Skipped aggregation=max for 'empty_both'\n",
      "Warning: Skipped aggregation=max for 'empty_reference'\n",
      "========================================================================\n",
      "========================================================================\n",
      "other otherTokens\n",
      "cond_scores (8738, 2) 388\n",
      "eval_predictions (8738,) 8738\n",
      "Warning: Skipped aggregation=max for 'no_reference'\n",
      "Warning: Skipped aggregation=max for 'empty_both'\n",
      "Warning: Skipped aggregation=max for 'empty_reference'\n",
      "========================================================================\n",
      "========================================================================\n",
      "implTopic implTopicTokens\n",
      "cond_scores (8738, 2) 1963\n",
      "eval_predictions (8738,) 8738\n",
      "Warning: Skipped aggregation=max for 'no_reference'\n",
      "Warning: Skipped aggregation=max for 'empty_both'\n",
      "Warning: Skipped aggregation=max for 'empty_reference'\n",
      "========================================================================\n",
      "========================================================================\n",
      "implPolarity implTopicTokens\n",
      "cond_scores (8738, 2) 1963\n",
      "eval_predictions (8738,) 8738\n",
      "Warning: Skipped aggregation=max for 'no_reference'\n",
      "Warning: Skipped aggregation=max for 'empty_both'\n",
      "Warning: Skipped aggregation=max for 'empty_reference'\n",
      "========================================================================\n",
      "========================================================================\n",
      "implTemporality implTopicTokens\n",
      "cond_scores (8738, 2) 1963\n",
      "eval_predictions (8738,) 8738\n",
      "Warning: Skipped aggregation=max for 'no_reference'\n",
      "Warning: Skipped aggregation=max for 'empty_both'\n",
      "Warning: Skipped aggregation=max for 'empty_reference'\n",
      "========================================================================\n",
      "========================================================================\n",
      "subject subjectTokens\n",
      "cond_scores (8738, 2) 1807\n",
      "eval_predictions (8738,) 8738\n",
      "========================================================================\n",
      "========================================================================\n",
      "subjectGroupType subjectTokens\n",
      "cond_scores (8738, 2) 1807\n",
      "eval_predictions (8738,) 8738\n",
      "========================================================================\n",
      "========================================================================\n",
      "other otherTokens\n",
      "cond_scores (8738, 2) 388\n",
      "eval_predictions (8738,) 8738\n",
      "========================================================================\n",
      "========================================================================\n",
      "implTopic implTopicTokens\n",
      "cond_scores (8738, 2) 1963\n",
      "eval_predictions (8738,) 8738\n",
      "========================================================================\n",
      "========================================================================\n",
      "implPolarity implTopicTokens\n",
      "cond_scores (8738, 2) 1963\n",
      "eval_predictions (8738,) 8738\n",
      "========================================================================\n",
      "========================================================================\n",
      "implTemporality implTopicTokens\n",
      "cond_scores (8738, 2) 1963\n",
      "eval_predictions (8738,) 8738\n",
      "========================================================================\n",
      "========================================================================\n"
     ]
    }
   ],
   "execution_count": 20
  },
  {
   "metadata": {},
   "cell_type": "markdown",
   "source": "### Jaccard Evaluation",
   "id": "99aa6afa6cdd69c5"
  },
  {
   "metadata": {
    "ExecuteTime": {
     "end_time": "2025-04-08T10:47:55.969085Z",
     "start_time": "2025-04-08T10:47:13.788052Z"
    }
   },
   "cell_type": "code",
   "source": [
    "jacc_results = []\n",
    "for optimism in [True, False]:\n",
    "    jaccard_df = jaccard_sampled(test_df, partial(get_prediction, optimistic=optimism))\n",
    "    jaccard_df['optimistic'] = optimism\n",
    "    jacc_results.append(jaccard_df)\n",
    "pd.concat(jacc_results).to_csv(f'eval_outputs/{MODEL_NAME}_eval_group2a.csv')"
   ],
   "id": "d35d440a94f86f89",
   "outputs": [
    {
     "name": "stdout",
     "output_type": "stream",
     "text": [
      "answer_pp_implDetected\n",
      "False    6711\n",
      "True     2027\n",
      "Name: count, dtype: int64\n"
     ]
    },
    {
     "name": "stderr",
     "output_type": "stream",
     "text": [
      "100%|██████████| 50/50 [00:01<00:00, 43.16it/s]\n",
      "100%|██████████| 50/50 [00:00<00:00, 239.57it/s]\n",
      "100%|██████████| 50/50 [00:01<00:00, 37.38it/s]\n",
      "100%|██████████| 50/50 [00:01<00:00, 44.45it/s]\n",
      "100%|██████████| 50/50 [00:00<00:00, 81.70it/s] \n",
      "100%|██████████| 50/50 [00:01<00:00, 43.28it/s]\n",
      "100%|██████████| 50/50 [00:02<00:00, 22.82it/s]\n",
      "100%|██████████| 50/50 [00:00<00:00, 59.20it/s]\n",
      "100%|██████████| 50/50 [00:01<00:00, 25.18it/s]\n",
      "100%|██████████| 50/50 [00:02<00:00, 23.08it/s]\n",
      "100%|██████████| 50/50 [00:00<00:00, 98.32it/s] \n",
      "100%|██████████| 50/50 [00:02<00:00, 22.53it/s]\n",
      "100%|██████████| 50/50 [00:01<00:00, 36.03it/s]\n",
      "100%|██████████| 50/50 [00:00<00:00, 94.20it/s] \n",
      "100%|██████████| 50/50 [00:01<00:00, 35.77it/s]\n",
      "100%|██████████| 50/50 [00:01<00:00, 45.81it/s]\n",
      "100%|██████████| 50/50 [00:00<00:00, 194.45it/s]\n",
      "100%|██████████| 50/50 [00:00<00:00, 64.42it/s]\n"
     ]
    },
    {
     "name": "stdout",
     "output_type": "stream",
     "text": [
      "answer_pp_implDetected\n",
      "False    6711\n",
      "True     2027\n",
      "Name: count, dtype: int64\n"
     ]
    },
    {
     "name": "stderr",
     "output_type": "stream",
     "text": [
      "100%|██████████| 50/50 [00:01<00:00, 37.60it/s]\n",
      "100%|██████████| 50/50 [00:00<00:00, 242.43it/s]\n",
      "100%|██████████| 50/50 [00:01<00:00, 42.32it/s]\n",
      "100%|██████████| 50/50 [00:01<00:00, 37.28it/s]\n",
      "100%|██████████| 50/50 [00:00<00:00, 75.92it/s]\n",
      "100%|██████████| 50/50 [00:01<00:00, 42.82it/s]\n",
      "100%|██████████| 50/50 [00:02<00:00, 22.88it/s]\n",
      "100%|██████████| 50/50 [00:00<00:00, 69.55it/s]\n",
      "100%|██████████| 50/50 [00:02<00:00, 22.90it/s]\n",
      "100%|██████████| 50/50 [00:02<00:00, 21.96it/s]\n",
      "100%|██████████| 50/50 [00:00<00:00, 96.79it/s] \n",
      "100%|██████████| 50/50 [00:02<00:00, 22.54it/s]\n",
      "100%|██████████| 50/50 [00:01<00:00, 40.26it/s]\n",
      "100%|██████████| 50/50 [00:00<00:00, 136.66it/s]\n",
      "100%|██████████| 50/50 [00:01<00:00, 35.51it/s]\n",
      "100%|██████████| 50/50 [00:00<00:00, 65.77it/s]\n",
      "100%|██████████| 50/50 [00:00<00:00, 123.52it/s]\n",
      "100%|██████████| 50/50 [00:00<00:00, 52.63it/s]\n"
     ]
    }
   ],
   "execution_count": 21
  }
 ],
 "metadata": {
  "kernelspec": {
   "display_name": "Python 3 (ipykernel)",
   "name": "python3",
   "language": "python"
  },
  "language_info": {
   "codemirror_mode": {
    "name": "ipython",
    "version": 2
   },
   "file_extension": ".py",
   "mimetype": "text/x-python",
   "name": "python",
   "nbconvert_exporter": "python",
   "pygments_lexer": "ipython2",
   "version": "2.7.6"
  },
  "colab": {
   "provenance": [],
   "collapsed_sections": [
    "EJZwLZRX8yQ1",
    "NMUqQ4cP88q_",
    "XMDLFtwOKBhh",
    "AlO7Qf1G9OzT"
   ],
   "gpuType": "T4"
  },
  "accelerator": "GPU",
  "widgets": {
   "application/vnd.jupyter.widget-state+json": {
    "6e0b06ed4cc647be8554409a47d602e7": {
     "model_module": "@jupyter-widgets/controls",
     "model_name": "HBoxModel",
     "model_module_version": "1.5.0",
     "state": {
      "_dom_classes": [],
      "_model_module": "@jupyter-widgets/controls",
      "_model_module_version": "1.5.0",
      "_model_name": "HBoxModel",
      "_view_count": null,
      "_view_module": "@jupyter-widgets/controls",
      "_view_module_version": "1.5.0",
      "_view_name": "HBoxView",
      "box_style": "",
      "children": [
       "IPY_MODEL_580f553195d5479d9c253690f07be6d9",
       "IPY_MODEL_c23c6397e4284db38d57a0d73a3359b2",
       "IPY_MODEL_737b82f0e5ee40f68b5c7937c9e5a016"
      ],
      "layout": "IPY_MODEL_4a049376d7994b058b19e6186ed0d607"
     }
    },
    "580f553195d5479d9c253690f07be6d9": {
     "model_module": "@jupyter-widgets/controls",
     "model_name": "HTMLModel",
     "model_module_version": "1.5.0",
     "state": {
      "_dom_classes": [],
      "_model_module": "@jupyter-widgets/controls",
      "_model_module_version": "1.5.0",
      "_model_name": "HTMLModel",
      "_view_count": null,
      "_view_module": "@jupyter-widgets/controls",
      "_view_module_version": "1.5.0",
      "_view_name": "HTMLView",
      "description": "",
      "description_tooltip": null,
      "layout": "IPY_MODEL_87510f08753d4d429344d9ce62abdb97",
      "placeholder": "​",
      "style": "IPY_MODEL_1bfcede1c94f43a9b836aca1cfeb3d6d",
      "value": "tokenizer_config.json: 100%"
     }
    },
    "c23c6397e4284db38d57a0d73a3359b2": {
     "model_module": "@jupyter-widgets/controls",
     "model_name": "FloatProgressModel",
     "model_module_version": "1.5.0",
     "state": {
      "_dom_classes": [],
      "_model_module": "@jupyter-widgets/controls",
      "_model_module_version": "1.5.0",
      "_model_name": "FloatProgressModel",
      "_view_count": null,
      "_view_module": "@jupyter-widgets/controls",
      "_view_module_version": "1.5.0",
      "_view_name": "ProgressView",
      "bar_style": "success",
      "description": "",
      "description_tooltip": null,
      "layout": "IPY_MODEL_0094adf91a57453fa2114dcf82e89f69",
      "max": 25,
      "min": 0,
      "orientation": "horizontal",
      "style": "IPY_MODEL_93bf8487b2c3468592b479d676af73d7",
      "value": 25
     }
    },
    "737b82f0e5ee40f68b5c7937c9e5a016": {
     "model_module": "@jupyter-widgets/controls",
     "model_name": "HTMLModel",
     "model_module_version": "1.5.0",
     "state": {
      "_dom_classes": [],
      "_model_module": "@jupyter-widgets/controls",
      "_model_module_version": "1.5.0",
      "_model_name": "HTMLModel",
      "_view_count": null,
      "_view_module": "@jupyter-widgets/controls",
      "_view_module_version": "1.5.0",
      "_view_name": "HTMLView",
      "description": "",
      "description_tooltip": null,
      "layout": "IPY_MODEL_e9cc0e6698a84c7392b03bf0a86c835a",
      "placeholder": "​",
      "style": "IPY_MODEL_e2e1bc843bd242f280676598e98cdf70",
      "value": " 25.0/25.0 [00:00&lt;00:00, 836B/s]"
     }
    },
    "4a049376d7994b058b19e6186ed0d607": {
     "model_module": "@jupyter-widgets/base",
     "model_name": "LayoutModel",
     "model_module_version": "1.2.0",
     "state": {
      "_model_module": "@jupyter-widgets/base",
      "_model_module_version": "1.2.0",
      "_model_name": "LayoutModel",
      "_view_count": null,
      "_view_module": "@jupyter-widgets/base",
      "_view_module_version": "1.2.0",
      "_view_name": "LayoutView",
      "align_content": null,
      "align_items": null,
      "align_self": null,
      "border": null,
      "bottom": null,
      "display": null,
      "flex": null,
      "flex_flow": null,
      "grid_area": null,
      "grid_auto_columns": null,
      "grid_auto_flow": null,
      "grid_auto_rows": null,
      "grid_column": null,
      "grid_gap": null,
      "grid_row": null,
      "grid_template_areas": null,
      "grid_template_columns": null,
      "grid_template_rows": null,
      "height": null,
      "justify_content": null,
      "justify_items": null,
      "left": null,
      "margin": null,
      "max_height": null,
      "max_width": null,
      "min_height": null,
      "min_width": null,
      "object_fit": null,
      "object_position": null,
      "order": null,
      "overflow": null,
      "overflow_x": null,
      "overflow_y": null,
      "padding": null,
      "right": null,
      "top": null,
      "visibility": null,
      "width": null
     }
    },
    "87510f08753d4d429344d9ce62abdb97": {
     "model_module": "@jupyter-widgets/base",
     "model_name": "LayoutModel",
     "model_module_version": "1.2.0",
     "state": {
      "_model_module": "@jupyter-widgets/base",
      "_model_module_version": "1.2.0",
      "_model_name": "LayoutModel",
      "_view_count": null,
      "_view_module": "@jupyter-widgets/base",
      "_view_module_version": "1.2.0",
      "_view_name": "LayoutView",
      "align_content": null,
      "align_items": null,
      "align_self": null,
      "border": null,
      "bottom": null,
      "display": null,
      "flex": null,
      "flex_flow": null,
      "grid_area": null,
      "grid_auto_columns": null,
      "grid_auto_flow": null,
      "grid_auto_rows": null,
      "grid_column": null,
      "grid_gap": null,
      "grid_row": null,
      "grid_template_areas": null,
      "grid_template_columns": null,
      "grid_template_rows": null,
      "height": null,
      "justify_content": null,
      "justify_items": null,
      "left": null,
      "margin": null,
      "max_height": null,
      "max_width": null,
      "min_height": null,
      "min_width": null,
      "object_fit": null,
      "object_position": null,
      "order": null,
      "overflow": null,
      "overflow_x": null,
      "overflow_y": null,
      "padding": null,
      "right": null,
      "top": null,
      "visibility": null,
      "width": null
     }
    },
    "1bfcede1c94f43a9b836aca1cfeb3d6d": {
     "model_module": "@jupyter-widgets/controls",
     "model_name": "DescriptionStyleModel",
     "model_module_version": "1.5.0",
     "state": {
      "_model_module": "@jupyter-widgets/controls",
      "_model_module_version": "1.5.0",
      "_model_name": "DescriptionStyleModel",
      "_view_count": null,
      "_view_module": "@jupyter-widgets/base",
      "_view_module_version": "1.2.0",
      "_view_name": "StyleView",
      "description_width": ""
     }
    },
    "0094adf91a57453fa2114dcf82e89f69": {
     "model_module": "@jupyter-widgets/base",
     "model_name": "LayoutModel",
     "model_module_version": "1.2.0",
     "state": {
      "_model_module": "@jupyter-widgets/base",
      "_model_module_version": "1.2.0",
      "_model_name": "LayoutModel",
      "_view_count": null,
      "_view_module": "@jupyter-widgets/base",
      "_view_module_version": "1.2.0",
      "_view_name": "LayoutView",
      "align_content": null,
      "align_items": null,
      "align_self": null,
      "border": null,
      "bottom": null,
      "display": null,
      "flex": null,
      "flex_flow": null,
      "grid_area": null,
      "grid_auto_columns": null,
      "grid_auto_flow": null,
      "grid_auto_rows": null,
      "grid_column": null,
      "grid_gap": null,
      "grid_row": null,
      "grid_template_areas": null,
      "grid_template_columns": null,
      "grid_template_rows": null,
      "height": null,
      "justify_content": null,
      "justify_items": null,
      "left": null,
      "margin": null,
      "max_height": null,
      "max_width": null,
      "min_height": null,
      "min_width": null,
      "object_fit": null,
      "object_position": null,
      "order": null,
      "overflow": null,
      "overflow_x": null,
      "overflow_y": null,
      "padding": null,
      "right": null,
      "top": null,
      "visibility": null,
      "width": null
     }
    },
    "93bf8487b2c3468592b479d676af73d7": {
     "model_module": "@jupyter-widgets/controls",
     "model_name": "ProgressStyleModel",
     "model_module_version": "1.5.0",
     "state": {
      "_model_module": "@jupyter-widgets/controls",
      "_model_module_version": "1.5.0",
      "_model_name": "ProgressStyleModel",
      "_view_count": null,
      "_view_module": "@jupyter-widgets/base",
      "_view_module_version": "1.2.0",
      "_view_name": "StyleView",
      "bar_color": null,
      "description_width": ""
     }
    },
    "e9cc0e6698a84c7392b03bf0a86c835a": {
     "model_module": "@jupyter-widgets/base",
     "model_name": "LayoutModel",
     "model_module_version": "1.2.0",
     "state": {
      "_model_module": "@jupyter-widgets/base",
      "_model_module_version": "1.2.0",
      "_model_name": "LayoutModel",
      "_view_count": null,
      "_view_module": "@jupyter-widgets/base",
      "_view_module_version": "1.2.0",
      "_view_name": "LayoutView",
      "align_content": null,
      "align_items": null,
      "align_self": null,
      "border": null,
      "bottom": null,
      "display": null,
      "flex": null,
      "flex_flow": null,
      "grid_area": null,
      "grid_auto_columns": null,
      "grid_auto_flow": null,
      "grid_auto_rows": null,
      "grid_column": null,
      "grid_gap": null,
      "grid_row": null,
      "grid_template_areas": null,
      "grid_template_columns": null,
      "grid_template_rows": null,
      "height": null,
      "justify_content": null,
      "justify_items": null,
      "left": null,
      "margin": null,
      "max_height": null,
      "max_width": null,
      "min_height": null,
      "min_width": null,
      "object_fit": null,
      "object_position": null,
      "order": null,
      "overflow": null,
      "overflow_x": null,
      "overflow_y": null,
      "padding": null,
      "right": null,
      "top": null,
      "visibility": null,
      "width": null
     }
    },
    "e2e1bc843bd242f280676598e98cdf70": {
     "model_module": "@jupyter-widgets/controls",
     "model_name": "DescriptionStyleModel",
     "model_module_version": "1.5.0",
     "state": {
      "_model_module": "@jupyter-widgets/controls",
      "_model_module_version": "1.5.0",
      "_model_name": "DescriptionStyleModel",
      "_view_count": null,
      "_view_module": "@jupyter-widgets/base",
      "_view_module_version": "1.2.0",
      "_view_name": "StyleView",
      "description_width": ""
     }
    },
    "8cbd14546f1f407096d059dde1f7c740": {
     "model_module": "@jupyter-widgets/controls",
     "model_name": "HBoxModel",
     "model_module_version": "1.5.0",
     "state": {
      "_dom_classes": [],
      "_model_module": "@jupyter-widgets/controls",
      "_model_module_version": "1.5.0",
      "_model_name": "HBoxModel",
      "_view_count": null,
      "_view_module": "@jupyter-widgets/controls",
      "_view_module_version": "1.5.0",
      "_view_name": "HBoxView",
      "box_style": "",
      "children": [
       "IPY_MODEL_082607a8d9b849dbb805f507d76f7396",
       "IPY_MODEL_5d134116bcba4a139e53e7a3bec415a9",
       "IPY_MODEL_ac6eb720567040fb8e301c3904008ac0"
      ],
      "layout": "IPY_MODEL_7c5fdcf030cc44f7af7e0d9202350570"
     }
    },
    "082607a8d9b849dbb805f507d76f7396": {
     "model_module": "@jupyter-widgets/controls",
     "model_name": "HTMLModel",
     "model_module_version": "1.5.0",
     "state": {
      "_dom_classes": [],
      "_model_module": "@jupyter-widgets/controls",
      "_model_module_version": "1.5.0",
      "_model_name": "HTMLModel",
      "_view_count": null,
      "_view_module": "@jupyter-widgets/controls",
      "_view_module_version": "1.5.0",
      "_view_name": "HTMLView",
      "description": "",
      "description_tooltip": null,
      "layout": "IPY_MODEL_6a0b47b342aa4065a146cc4d701c09b6",
      "placeholder": "​",
      "style": "IPY_MODEL_ea1566b1734841188a0b19f2dfe9e9b9",
      "value": "config.json: 100%"
     }
    },
    "5d134116bcba4a139e53e7a3bec415a9": {
     "model_module": "@jupyter-widgets/controls",
     "model_name": "FloatProgressModel",
     "model_module_version": "1.5.0",
     "state": {
      "_dom_classes": [],
      "_model_module": "@jupyter-widgets/controls",
      "_model_module_version": "1.5.0",
      "_model_name": "FloatProgressModel",
      "_view_count": null,
      "_view_module": "@jupyter-widgets/controls",
      "_view_module_version": "1.5.0",
      "_view_name": "ProgressView",
      "bar_style": "success",
      "description": "",
      "description_tooltip": null,
      "layout": "IPY_MODEL_44d6e71bbb9447e5948ced73ac4d7682",
      "max": 615,
      "min": 0,
      "orientation": "horizontal",
      "style": "IPY_MODEL_37fac5216ced463c80eda801c57c992d",
      "value": 615
     }
    },
    "ac6eb720567040fb8e301c3904008ac0": {
     "model_module": "@jupyter-widgets/controls",
     "model_name": "HTMLModel",
     "model_module_version": "1.5.0",
     "state": {
      "_dom_classes": [],
      "_model_module": "@jupyter-widgets/controls",
      "_model_module_version": "1.5.0",
      "_model_name": "HTMLModel",
      "_view_count": null,
      "_view_module": "@jupyter-widgets/controls",
      "_view_module_version": "1.5.0",
      "_view_name": "HTMLView",
      "description": "",
      "description_tooltip": null,
      "layout": "IPY_MODEL_b80a5ebd7e2f443b9a23b959c9b14b35",
      "placeholder": "​",
      "style": "IPY_MODEL_8b367231dfa24a6e8089466c268498e1",
      "value": " 615/615 [00:00&lt;00:00, 18.4kB/s]"
     }
    },
    "7c5fdcf030cc44f7af7e0d9202350570": {
     "model_module": "@jupyter-widgets/base",
     "model_name": "LayoutModel",
     "model_module_version": "1.2.0",
     "state": {
      "_model_module": "@jupyter-widgets/base",
      "_model_module_version": "1.2.0",
      "_model_name": "LayoutModel",
      "_view_count": null,
      "_view_module": "@jupyter-widgets/base",
      "_view_module_version": "1.2.0",
      "_view_name": "LayoutView",
      "align_content": null,
      "align_items": null,
      "align_self": null,
      "border": null,
      "bottom": null,
      "display": null,
      "flex": null,
      "flex_flow": null,
      "grid_area": null,
      "grid_auto_columns": null,
      "grid_auto_flow": null,
      "grid_auto_rows": null,
      "grid_column": null,
      "grid_gap": null,
      "grid_row": null,
      "grid_template_areas": null,
      "grid_template_columns": null,
      "grid_template_rows": null,
      "height": null,
      "justify_content": null,
      "justify_items": null,
      "left": null,
      "margin": null,
      "max_height": null,
      "max_width": null,
      "min_height": null,
      "min_width": null,
      "object_fit": null,
      "object_position": null,
      "order": null,
      "overflow": null,
      "overflow_x": null,
      "overflow_y": null,
      "padding": null,
      "right": null,
      "top": null,
      "visibility": null,
      "width": null
     }
    },
    "6a0b47b342aa4065a146cc4d701c09b6": {
     "model_module": "@jupyter-widgets/base",
     "model_name": "LayoutModel",
     "model_module_version": "1.2.0",
     "state": {
      "_model_module": "@jupyter-widgets/base",
      "_model_module_version": "1.2.0",
      "_model_name": "LayoutModel",
      "_view_count": null,
      "_view_module": "@jupyter-widgets/base",
      "_view_module_version": "1.2.0",
      "_view_name": "LayoutView",
      "align_content": null,
      "align_items": null,
      "align_self": null,
      "border": null,
      "bottom": null,
      "display": null,
      "flex": null,
      "flex_flow": null,
      "grid_area": null,
      "grid_auto_columns": null,
      "grid_auto_flow": null,
      "grid_auto_rows": null,
      "grid_column": null,
      "grid_gap": null,
      "grid_row": null,
      "grid_template_areas": null,
      "grid_template_columns": null,
      "grid_template_rows": null,
      "height": null,
      "justify_content": null,
      "justify_items": null,
      "left": null,
      "margin": null,
      "max_height": null,
      "max_width": null,
      "min_height": null,
      "min_width": null,
      "object_fit": null,
      "object_position": null,
      "order": null,
      "overflow": null,
      "overflow_x": null,
      "overflow_y": null,
      "padding": null,
      "right": null,
      "top": null,
      "visibility": null,
      "width": null
     }
    },
    "ea1566b1734841188a0b19f2dfe9e9b9": {
     "model_module": "@jupyter-widgets/controls",
     "model_name": "DescriptionStyleModel",
     "model_module_version": "1.5.0",
     "state": {
      "_model_module": "@jupyter-widgets/controls",
      "_model_module_version": "1.5.0",
      "_model_name": "DescriptionStyleModel",
      "_view_count": null,
      "_view_module": "@jupyter-widgets/base",
      "_view_module_version": "1.2.0",
      "_view_name": "StyleView",
      "description_width": ""
     }
    },
    "44d6e71bbb9447e5948ced73ac4d7682": {
     "model_module": "@jupyter-widgets/base",
     "model_name": "LayoutModel",
     "model_module_version": "1.2.0",
     "state": {
      "_model_module": "@jupyter-widgets/base",
      "_model_module_version": "1.2.0",
      "_model_name": "LayoutModel",
      "_view_count": null,
      "_view_module": "@jupyter-widgets/base",
      "_view_module_version": "1.2.0",
      "_view_name": "LayoutView",
      "align_content": null,
      "align_items": null,
      "align_self": null,
      "border": null,
      "bottom": null,
      "display": null,
      "flex": null,
      "flex_flow": null,
      "grid_area": null,
      "grid_auto_columns": null,
      "grid_auto_flow": null,
      "grid_auto_rows": null,
      "grid_column": null,
      "grid_gap": null,
      "grid_row": null,
      "grid_template_areas": null,
      "grid_template_columns": null,
      "grid_template_rows": null,
      "height": null,
      "justify_content": null,
      "justify_items": null,
      "left": null,
      "margin": null,
      "max_height": null,
      "max_width": null,
      "min_height": null,
      "min_width": null,
      "object_fit": null,
      "object_position": null,
      "order": null,
      "overflow": null,
      "overflow_x": null,
      "overflow_y": null,
      "padding": null,
      "right": null,
      "top": null,
      "visibility": null,
      "width": null
     }
    },
    "37fac5216ced463c80eda801c57c992d": {
     "model_module": "@jupyter-widgets/controls",
     "model_name": "ProgressStyleModel",
     "model_module_version": "1.5.0",
     "state": {
      "_model_module": "@jupyter-widgets/controls",
      "_model_module_version": "1.5.0",
      "_model_name": "ProgressStyleModel",
      "_view_count": null,
      "_view_module": "@jupyter-widgets/base",
      "_view_module_version": "1.2.0",
      "_view_name": "StyleView",
      "bar_color": null,
      "description_width": ""
     }
    },
    "b80a5ebd7e2f443b9a23b959c9b14b35": {
     "model_module": "@jupyter-widgets/base",
     "model_name": "LayoutModel",
     "model_module_version": "1.2.0",
     "state": {
      "_model_module": "@jupyter-widgets/base",
      "_model_module_version": "1.2.0",
      "_model_name": "LayoutModel",
      "_view_count": null,
      "_view_module": "@jupyter-widgets/base",
      "_view_module_version": "1.2.0",
      "_view_name": "LayoutView",
      "align_content": null,
      "align_items": null,
      "align_self": null,
      "border": null,
      "bottom": null,
      "display": null,
      "flex": null,
      "flex_flow": null,
      "grid_area": null,
      "grid_auto_columns": null,
      "grid_auto_flow": null,
      "grid_auto_rows": null,
      "grid_column": null,
      "grid_gap": null,
      "grid_row": null,
      "grid_template_areas": null,
      "grid_template_columns": null,
      "grid_template_rows": null,
      "height": null,
      "justify_content": null,
      "justify_items": null,
      "left": null,
      "margin": null,
      "max_height": null,
      "max_width": null,
      "min_height": null,
      "min_width": null,
      "object_fit": null,
      "object_position": null,
      "order": null,
      "overflow": null,
      "overflow_x": null,
      "overflow_y": null,
      "padding": null,
      "right": null,
      "top": null,
      "visibility": null,
      "width": null
     }
    },
    "8b367231dfa24a6e8089466c268498e1": {
     "model_module": "@jupyter-widgets/controls",
     "model_name": "DescriptionStyleModel",
     "model_module_version": "1.5.0",
     "state": {
      "_model_module": "@jupyter-widgets/controls",
      "_model_module_version": "1.5.0",
      "_model_name": "DescriptionStyleModel",
      "_view_count": null,
      "_view_module": "@jupyter-widgets/base",
      "_view_module_version": "1.2.0",
      "_view_name": "StyleView",
      "description_width": ""
     }
    },
    "c78891d341624dbc9ec72f643e2a7ab0": {
     "model_module": "@jupyter-widgets/controls",
     "model_name": "HBoxModel",
     "model_module_version": "1.5.0",
     "state": {
      "_dom_classes": [],
      "_model_module": "@jupyter-widgets/controls",
      "_model_module_version": "1.5.0",
      "_model_name": "HBoxModel",
      "_view_count": null,
      "_view_module": "@jupyter-widgets/controls",
      "_view_module_version": "1.5.0",
      "_view_name": "HBoxView",
      "box_style": "",
      "children": [
       "IPY_MODEL_322767c7180d48a699bd9d26270f17f6",
       "IPY_MODEL_ee7f79a0759c48bbaedc60faec77b88e",
       "IPY_MODEL_5caf19a0bccd4ca59f13b9c3383df8f1"
      ],
      "layout": "IPY_MODEL_5f2b633ea5234c07839607f96657ab8e"
     }
    },
    "322767c7180d48a699bd9d26270f17f6": {
     "model_module": "@jupyter-widgets/controls",
     "model_name": "HTMLModel",
     "model_module_version": "1.5.0",
     "state": {
      "_dom_classes": [],
      "_model_module": "@jupyter-widgets/controls",
      "_model_module_version": "1.5.0",
      "_model_name": "HTMLModel",
      "_view_count": null,
      "_view_module": "@jupyter-widgets/controls",
      "_view_module_version": "1.5.0",
      "_view_name": "HTMLView",
      "description": "",
      "description_tooltip": null,
      "layout": "IPY_MODEL_1b0f18c9bc9446a59dc5068ec76c691c",
      "placeholder": "​",
      "style": "IPY_MODEL_c22c975f81b842689879cc2abccfd623",
      "value": "sentencepiece.bpe.model: 100%"
     }
    },
    "ee7f79a0759c48bbaedc60faec77b88e": {
     "model_module": "@jupyter-widgets/controls",
     "model_name": "FloatProgressModel",
     "model_module_version": "1.5.0",
     "state": {
      "_dom_classes": [],
      "_model_module": "@jupyter-widgets/controls",
      "_model_module_version": "1.5.0",
      "_model_name": "FloatProgressModel",
      "_view_count": null,
      "_view_module": "@jupyter-widgets/controls",
      "_view_module_version": "1.5.0",
      "_view_name": "ProgressView",
      "bar_style": "success",
      "description": "",
      "description_tooltip": null,
      "layout": "IPY_MODEL_f2dbbfb4e3cc4aa481b91cd5ba3fcbd0",
      "max": 5069051,
      "min": 0,
      "orientation": "horizontal",
      "style": "IPY_MODEL_f947a3615b6a479c9b3e71b742158a99",
      "value": 5069051
     }
    },
    "5caf19a0bccd4ca59f13b9c3383df8f1": {
     "model_module": "@jupyter-widgets/controls",
     "model_name": "HTMLModel",
     "model_module_version": "1.5.0",
     "state": {
      "_dom_classes": [],
      "_model_module": "@jupyter-widgets/controls",
      "_model_module_version": "1.5.0",
      "_model_name": "HTMLModel",
      "_view_count": null,
      "_view_module": "@jupyter-widgets/controls",
      "_view_module_version": "1.5.0",
      "_view_name": "HTMLView",
      "description": "",
      "description_tooltip": null,
      "layout": "IPY_MODEL_e29f37994ae546e696c124777b24d192",
      "placeholder": "​",
      "style": "IPY_MODEL_9d747c45a21240fc96a8e44e9ea1ddc9",
      "value": " 5.07M/5.07M [00:00&lt;00:00, 13.5MB/s]"
     }
    },
    "5f2b633ea5234c07839607f96657ab8e": {
     "model_module": "@jupyter-widgets/base",
     "model_name": "LayoutModel",
     "model_module_version": "1.2.0",
     "state": {
      "_model_module": "@jupyter-widgets/base",
      "_model_module_version": "1.2.0",
      "_model_name": "LayoutModel",
      "_view_count": null,
      "_view_module": "@jupyter-widgets/base",
      "_view_module_version": "1.2.0",
      "_view_name": "LayoutView",
      "align_content": null,
      "align_items": null,
      "align_self": null,
      "border": null,
      "bottom": null,
      "display": null,
      "flex": null,
      "flex_flow": null,
      "grid_area": null,
      "grid_auto_columns": null,
      "grid_auto_flow": null,
      "grid_auto_rows": null,
      "grid_column": null,
      "grid_gap": null,
      "grid_row": null,
      "grid_template_areas": null,
      "grid_template_columns": null,
      "grid_template_rows": null,
      "height": null,
      "justify_content": null,
      "justify_items": null,
      "left": null,
      "margin": null,
      "max_height": null,
      "max_width": null,
      "min_height": null,
      "min_width": null,
      "object_fit": null,
      "object_position": null,
      "order": null,
      "overflow": null,
      "overflow_x": null,
      "overflow_y": null,
      "padding": null,
      "right": null,
      "top": null,
      "visibility": null,
      "width": null
     }
    },
    "1b0f18c9bc9446a59dc5068ec76c691c": {
     "model_module": "@jupyter-widgets/base",
     "model_name": "LayoutModel",
     "model_module_version": "1.2.0",
     "state": {
      "_model_module": "@jupyter-widgets/base",
      "_model_module_version": "1.2.0",
      "_model_name": "LayoutModel",
      "_view_count": null,
      "_view_module": "@jupyter-widgets/base",
      "_view_module_version": "1.2.0",
      "_view_name": "LayoutView",
      "align_content": null,
      "align_items": null,
      "align_self": null,
      "border": null,
      "bottom": null,
      "display": null,
      "flex": null,
      "flex_flow": null,
      "grid_area": null,
      "grid_auto_columns": null,
      "grid_auto_flow": null,
      "grid_auto_rows": null,
      "grid_column": null,
      "grid_gap": null,
      "grid_row": null,
      "grid_template_areas": null,
      "grid_template_columns": null,
      "grid_template_rows": null,
      "height": null,
      "justify_content": null,
      "justify_items": null,
      "left": null,
      "margin": null,
      "max_height": null,
      "max_width": null,
      "min_height": null,
      "min_width": null,
      "object_fit": null,
      "object_position": null,
      "order": null,
      "overflow": null,
      "overflow_x": null,
      "overflow_y": null,
      "padding": null,
      "right": null,
      "top": null,
      "visibility": null,
      "width": null
     }
    },
    "c22c975f81b842689879cc2abccfd623": {
     "model_module": "@jupyter-widgets/controls",
     "model_name": "DescriptionStyleModel",
     "model_module_version": "1.5.0",
     "state": {
      "_model_module": "@jupyter-widgets/controls",
      "_model_module_version": "1.5.0",
      "_model_name": "DescriptionStyleModel",
      "_view_count": null,
      "_view_module": "@jupyter-widgets/base",
      "_view_module_version": "1.2.0",
      "_view_name": "StyleView",
      "description_width": ""
     }
    },
    "f2dbbfb4e3cc4aa481b91cd5ba3fcbd0": {
     "model_module": "@jupyter-widgets/base",
     "model_name": "LayoutModel",
     "model_module_version": "1.2.0",
     "state": {
      "_model_module": "@jupyter-widgets/base",
      "_model_module_version": "1.2.0",
      "_model_name": "LayoutModel",
      "_view_count": null,
      "_view_module": "@jupyter-widgets/base",
      "_view_module_version": "1.2.0",
      "_view_name": "LayoutView",
      "align_content": null,
      "align_items": null,
      "align_self": null,
      "border": null,
      "bottom": null,
      "display": null,
      "flex": null,
      "flex_flow": null,
      "grid_area": null,
      "grid_auto_columns": null,
      "grid_auto_flow": null,
      "grid_auto_rows": null,
      "grid_column": null,
      "grid_gap": null,
      "grid_row": null,
      "grid_template_areas": null,
      "grid_template_columns": null,
      "grid_template_rows": null,
      "height": null,
      "justify_content": null,
      "justify_items": null,
      "left": null,
      "margin": null,
      "max_height": null,
      "max_width": null,
      "min_height": null,
      "min_width": null,
      "object_fit": null,
      "object_position": null,
      "order": null,
      "overflow": null,
      "overflow_x": null,
      "overflow_y": null,
      "padding": null,
      "right": null,
      "top": null,
      "visibility": null,
      "width": null
     }
    },
    "f947a3615b6a479c9b3e71b742158a99": {
     "model_module": "@jupyter-widgets/controls",
     "model_name": "ProgressStyleModel",
     "model_module_version": "1.5.0",
     "state": {
      "_model_module": "@jupyter-widgets/controls",
      "_model_module_version": "1.5.0",
      "_model_name": "ProgressStyleModel",
      "_view_count": null,
      "_view_module": "@jupyter-widgets/base",
      "_view_module_version": "1.2.0",
      "_view_name": "StyleView",
      "bar_color": null,
      "description_width": ""
     }
    },
    "e29f37994ae546e696c124777b24d192": {
     "model_module": "@jupyter-widgets/base",
     "model_name": "LayoutModel",
     "model_module_version": "1.2.0",
     "state": {
      "_model_module": "@jupyter-widgets/base",
      "_model_module_version": "1.2.0",
      "_model_name": "LayoutModel",
      "_view_count": null,
      "_view_module": "@jupyter-widgets/base",
      "_view_module_version": "1.2.0",
      "_view_name": "LayoutView",
      "align_content": null,
      "align_items": null,
      "align_self": null,
      "border": null,
      "bottom": null,
      "display": null,
      "flex": null,
      "flex_flow": null,
      "grid_area": null,
      "grid_auto_columns": null,
      "grid_auto_flow": null,
      "grid_auto_rows": null,
      "grid_column": null,
      "grid_gap": null,
      "grid_row": null,
      "grid_template_areas": null,
      "grid_template_columns": null,
      "grid_template_rows": null,
      "height": null,
      "justify_content": null,
      "justify_items": null,
      "left": null,
      "margin": null,
      "max_height": null,
      "max_width": null,
      "min_height": null,
      "min_width": null,
      "object_fit": null,
      "object_position": null,
      "order": null,
      "overflow": null,
      "overflow_x": null,
      "overflow_y": null,
      "padding": null,
      "right": null,
      "top": null,
      "visibility": null,
      "width": null
     }
    },
    "9d747c45a21240fc96a8e44e9ea1ddc9": {
     "model_module": "@jupyter-widgets/controls",
     "model_name": "DescriptionStyleModel",
     "model_module_version": "1.5.0",
     "state": {
      "_model_module": "@jupyter-widgets/controls",
      "_model_module_version": "1.5.0",
      "_model_name": "DescriptionStyleModel",
      "_view_count": null,
      "_view_module": "@jupyter-widgets/base",
      "_view_module_version": "1.2.0",
      "_view_name": "StyleView",
      "description_width": ""
     }
    },
    "5c9c7876e2104bffacbec1cec74070d4": {
     "model_module": "@jupyter-widgets/controls",
     "model_name": "HBoxModel",
     "model_module_version": "1.5.0",
     "state": {
      "_dom_classes": [],
      "_model_module": "@jupyter-widgets/controls",
      "_model_module_version": "1.5.0",
      "_model_name": "HBoxModel",
      "_view_count": null,
      "_view_module": "@jupyter-widgets/controls",
      "_view_module_version": "1.5.0",
      "_view_name": "HBoxView",
      "box_style": "",
      "children": [
       "IPY_MODEL_d700277f212d4f2693f042d46c8d3453",
       "IPY_MODEL_5da28c5f9ab84f4ba0f52ae22b053753",
       "IPY_MODEL_2240c74f9e6f4c0fb6dcf610c7d4ec90"
      ],
      "layout": "IPY_MODEL_b3e58ae11f8246739ba360db8a89107c"
     }
    },
    "d700277f212d4f2693f042d46c8d3453": {
     "model_module": "@jupyter-widgets/controls",
     "model_name": "HTMLModel",
     "model_module_version": "1.5.0",
     "state": {
      "_dom_classes": [],
      "_model_module": "@jupyter-widgets/controls",
      "_model_module_version": "1.5.0",
      "_model_name": "HTMLModel",
      "_view_count": null,
      "_view_module": "@jupyter-widgets/controls",
      "_view_module_version": "1.5.0",
      "_view_name": "HTMLView",
      "description": "",
      "description_tooltip": null,
      "layout": "IPY_MODEL_e381779df14b44d0b7965c061acaf052",
      "placeholder": "​",
      "style": "IPY_MODEL_2d05f0d7c5ba45479ac527f3fea33c90",
      "value": "tokenizer.json: 100%"
     }
    },
    "5da28c5f9ab84f4ba0f52ae22b053753": {
     "model_module": "@jupyter-widgets/controls",
     "model_name": "FloatProgressModel",
     "model_module_version": "1.5.0",
     "state": {
      "_dom_classes": [],
      "_model_module": "@jupyter-widgets/controls",
      "_model_module_version": "1.5.0",
      "_model_name": "FloatProgressModel",
      "_view_count": null,
      "_view_module": "@jupyter-widgets/controls",
      "_view_module_version": "1.5.0",
      "_view_name": "ProgressView",
      "bar_style": "success",
      "description": "",
      "description_tooltip": null,
      "layout": "IPY_MODEL_4a901a209be3460ba7014520855544ab",
      "max": 9096718,
      "min": 0,
      "orientation": "horizontal",
      "style": "IPY_MODEL_21f42ce0c1cf47438400eac94b995a91",
      "value": 9096718
     }
    },
    "2240c74f9e6f4c0fb6dcf610c7d4ec90": {
     "model_module": "@jupyter-widgets/controls",
     "model_name": "HTMLModel",
     "model_module_version": "1.5.0",
     "state": {
      "_dom_classes": [],
      "_model_module": "@jupyter-widgets/controls",
      "_model_module_version": "1.5.0",
      "_model_name": "HTMLModel",
      "_view_count": null,
      "_view_module": "@jupyter-widgets/controls",
      "_view_module_version": "1.5.0",
      "_view_name": "HTMLView",
      "description": "",
      "description_tooltip": null,
      "layout": "IPY_MODEL_b156ca0aa0b74ddea561784726a8ec09",
      "placeholder": "​",
      "style": "IPY_MODEL_bbdad5313d6c43f2b37b190781b31341",
      "value": " 9.10M/9.10M [00:00&lt;00:00, 20.8MB/s]"
     }
    },
    "b3e58ae11f8246739ba360db8a89107c": {
     "model_module": "@jupyter-widgets/base",
     "model_name": "LayoutModel",
     "model_module_version": "1.2.0",
     "state": {
      "_model_module": "@jupyter-widgets/base",
      "_model_module_version": "1.2.0",
      "_model_name": "LayoutModel",
      "_view_count": null,
      "_view_module": "@jupyter-widgets/base",
      "_view_module_version": "1.2.0",
      "_view_name": "LayoutView",
      "align_content": null,
      "align_items": null,
      "align_self": null,
      "border": null,
      "bottom": null,
      "display": null,
      "flex": null,
      "flex_flow": null,
      "grid_area": null,
      "grid_auto_columns": null,
      "grid_auto_flow": null,
      "grid_auto_rows": null,
      "grid_column": null,
      "grid_gap": null,
      "grid_row": null,
      "grid_template_areas": null,
      "grid_template_columns": null,
      "grid_template_rows": null,
      "height": null,
      "justify_content": null,
      "justify_items": null,
      "left": null,
      "margin": null,
      "max_height": null,
      "max_width": null,
      "min_height": null,
      "min_width": null,
      "object_fit": null,
      "object_position": null,
      "order": null,
      "overflow": null,
      "overflow_x": null,
      "overflow_y": null,
      "padding": null,
      "right": null,
      "top": null,
      "visibility": null,
      "width": null
     }
    },
    "e381779df14b44d0b7965c061acaf052": {
     "model_module": "@jupyter-widgets/base",
     "model_name": "LayoutModel",
     "model_module_version": "1.2.0",
     "state": {
      "_model_module": "@jupyter-widgets/base",
      "_model_module_version": "1.2.0",
      "_model_name": "LayoutModel",
      "_view_count": null,
      "_view_module": "@jupyter-widgets/base",
      "_view_module_version": "1.2.0",
      "_view_name": "LayoutView",
      "align_content": null,
      "align_items": null,
      "align_self": null,
      "border": null,
      "bottom": null,
      "display": null,
      "flex": null,
      "flex_flow": null,
      "grid_area": null,
      "grid_auto_columns": null,
      "grid_auto_flow": null,
      "grid_auto_rows": null,
      "grid_column": null,
      "grid_gap": null,
      "grid_row": null,
      "grid_template_areas": null,
      "grid_template_columns": null,
      "grid_template_rows": null,
      "height": null,
      "justify_content": null,
      "justify_items": null,
      "left": null,
      "margin": null,
      "max_height": null,
      "max_width": null,
      "min_height": null,
      "min_width": null,
      "object_fit": null,
      "object_position": null,
      "order": null,
      "overflow": null,
      "overflow_x": null,
      "overflow_y": null,
      "padding": null,
      "right": null,
      "top": null,
      "visibility": null,
      "width": null
     }
    },
    "2d05f0d7c5ba45479ac527f3fea33c90": {
     "model_module": "@jupyter-widgets/controls",
     "model_name": "DescriptionStyleModel",
     "model_module_version": "1.5.0",
     "state": {
      "_model_module": "@jupyter-widgets/controls",
      "_model_module_version": "1.5.0",
      "_model_name": "DescriptionStyleModel",
      "_view_count": null,
      "_view_module": "@jupyter-widgets/base",
      "_view_module_version": "1.2.0",
      "_view_name": "StyleView",
      "description_width": ""
     }
    },
    "4a901a209be3460ba7014520855544ab": {
     "model_module": "@jupyter-widgets/base",
     "model_name": "LayoutModel",
     "model_module_version": "1.2.0",
     "state": {
      "_model_module": "@jupyter-widgets/base",
      "_model_module_version": "1.2.0",
      "_model_name": "LayoutModel",
      "_view_count": null,
      "_view_module": "@jupyter-widgets/base",
      "_view_module_version": "1.2.0",
      "_view_name": "LayoutView",
      "align_content": null,
      "align_items": null,
      "align_self": null,
      "border": null,
      "bottom": null,
      "display": null,
      "flex": null,
      "flex_flow": null,
      "grid_area": null,
      "grid_auto_columns": null,
      "grid_auto_flow": null,
      "grid_auto_rows": null,
      "grid_column": null,
      "grid_gap": null,
      "grid_row": null,
      "grid_template_areas": null,
      "grid_template_columns": null,
      "grid_template_rows": null,
      "height": null,
      "justify_content": null,
      "justify_items": null,
      "left": null,
      "margin": null,
      "max_height": null,
      "max_width": null,
      "min_height": null,
      "min_width": null,
      "object_fit": null,
      "object_position": null,
      "order": null,
      "overflow": null,
      "overflow_x": null,
      "overflow_y": null,
      "padding": null,
      "right": null,
      "top": null,
      "visibility": null,
      "width": null
     }
    },
    "21f42ce0c1cf47438400eac94b995a91": {
     "model_module": "@jupyter-widgets/controls",
     "model_name": "ProgressStyleModel",
     "model_module_version": "1.5.0",
     "state": {
      "_model_module": "@jupyter-widgets/controls",
      "_model_module_version": "1.5.0",
      "_model_name": "ProgressStyleModel",
      "_view_count": null,
      "_view_module": "@jupyter-widgets/base",
      "_view_module_version": "1.2.0",
      "_view_name": "StyleView",
      "bar_color": null,
      "description_width": ""
     }
    },
    "b156ca0aa0b74ddea561784726a8ec09": {
     "model_module": "@jupyter-widgets/base",
     "model_name": "LayoutModel",
     "model_module_version": "1.2.0",
     "state": {
      "_model_module": "@jupyter-widgets/base",
      "_model_module_version": "1.2.0",
      "_model_name": "LayoutModel",
      "_view_count": null,
      "_view_module": "@jupyter-widgets/base",
      "_view_module_version": "1.2.0",
      "_view_name": "LayoutView",
      "align_content": null,
      "align_items": null,
      "align_self": null,
      "border": null,
      "bottom": null,
      "display": null,
      "flex": null,
      "flex_flow": null,
      "grid_area": null,
      "grid_auto_columns": null,
      "grid_auto_flow": null,
      "grid_auto_rows": null,
      "grid_column": null,
      "grid_gap": null,
      "grid_row": null,
      "grid_template_areas": null,
      "grid_template_columns": null,
      "grid_template_rows": null,
      "height": null,
      "justify_content": null,
      "justify_items": null,
      "left": null,
      "margin": null,
      "max_height": null,
      "max_width": null,
      "min_height": null,
      "min_width": null,
      "object_fit": null,
      "object_position": null,
      "order": null,
      "overflow": null,
      "overflow_x": null,
      "overflow_y": null,
      "padding": null,
      "right": null,
      "top": null,
      "visibility": null,
      "width": null
     }
    },
    "bbdad5313d6c43f2b37b190781b31341": {
     "model_module": "@jupyter-widgets/controls",
     "model_name": "DescriptionStyleModel",
     "model_module_version": "1.5.0",
     "state": {
      "_model_module": "@jupyter-widgets/controls",
      "_model_module_version": "1.5.0",
      "_model_name": "DescriptionStyleModel",
      "_view_count": null,
      "_view_module": "@jupyter-widgets/base",
      "_view_module_version": "1.2.0",
      "_view_name": "StyleView",
      "description_width": ""
     }
    }
   }
  }
 },
 "nbformat": 4,
 "nbformat_minor": 5
}
